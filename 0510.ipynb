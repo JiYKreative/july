{
 "cells": [
  {
   "cell_type": "code",
   "execution_count": 1,
   "id": "7c16a755-977a-4a8c-9f18-5baf7c74ccd8",
   "metadata": {},
   "outputs": [],
   "source": [
    "import warnings, time, requests\n",
    "warnings.filterwarnings('ignore') \n",
    "\n",
    "import numpy as np\n",
    "import pandas as pd\n",
    "import matplotlib.pyplot as plt\n",
    "from pykrx import stock \n",
    "import datetime\n",
    "import seaborn as sns"
   ]
  },
  {
   "cell_type": "code",
   "execution_count": 3,
   "id": "8c738934-d344-4f39-bb00-83ce7ce893cd",
   "metadata": {},
   "outputs": [],
   "source": [
    "titanic = pd.read_csv('data/titanic.csv')"
   ]
  },
  {
   "cell_type": "code",
   "execution_count": 4,
   "id": "e4b8ddce-0524-4a1e-b399-f7138328b854",
   "metadata": {},
   "outputs": [],
   "source": [
    "p1 = titanic[titanic['Pclass']==1]['Age'].dropna()\n",
    "p2 = titanic[titanic['Pclass']==2]['Age'].dropna()\n",
    "p3 = titanic[titanic['Pclass']==3]['Age'].dropna()"
   ]
  },
  {
   "cell_type": "code",
   "execution_count": 5,
   "id": "a9d4b8f4-015e-4605-95e1-16c1cc016391",
   "metadata": {},
   "outputs": [
    {
     "data": {
      "text/plain": [
       "F_onewayResult(statistic=57.443484340676214, pvalue=7.487984171959904e-24)"
      ]
     },
     "execution_count": 5,
     "metadata": {},
     "output_type": "execute_result"
    }
   ],
   "source": [
    "from scipy import stats\n",
    "\n",
    "stats.f_oneway(p1,p2,p3)\n",
    "# 귀무가설 : 집단 간의 차이가 없다. (집단이 모두 동일한 집단이다.)\n",
    "#대립가설: 집단 간의 차이가 있다.(집단 중 다른 집다이 하나 존재한다.)"
   ]
  },
  {
   "cell_type": "code",
   "execution_count": 9,
   "id": "d1fbd2f4-a43b-4008-8a88-c36b1f9a86b5",
   "metadata": {},
   "outputs": [
    {
     "name": "stdout",
     "output_type": "stream",
     "text": [
      "ShapiroResult(statistic=0.9916939735412598, pvalue=0.3643055558204651)\n",
      "ShapiroResult(statistic=0.9769523739814758, pvalue=0.005649181082844734)\n",
      "ShapiroResult(statistic=0.9734365940093994, pvalue=4.183878445473965e-06)\n"
     ]
    }
   ],
   "source": [
    " # 정규성 검정 (shaporo  귀무: 정규성을 가진다. 대립 : 정규성을 가지지 않는다.)\n",
    "\n",
    "print(stats.shapiro(p1))\n",
    "print(stats.shapiro(p2))\n",
    "print(stats.shapiro(p3))\n"
   ]
  },
  {
   "cell_type": "code",
   "execution_count": 8,
   "id": "b46bc19c-07bf-4c74-950f-a8fbccee6329",
   "metadata": {},
   "outputs": [
    {
     "data": {
      "text/plain": [
       "KruskalResult(statistic=95.99479230295296, pvalue=1.4288798296552103e-21)"
      ]
     },
     "execution_count": 8,
     "metadata": {},
     "output_type": "execute_result"
    }
   ],
   "source": [
    "# 비모수 검정  클러스터 != 모수 검정 아노바검정\n",
    "stats.kruskal(p1,p2,p3)  "
   ]
  },
  {
   "cell_type": "code",
   "execution_count": 10,
   "id": "88807bb4-ae3b-4e95-9619-f4e22a12598e",
   "metadata": {},
   "outputs": [
    {
     "data": {
      "text/plain": [
       "F_onewayResult(statistic=57.443484340676214, pvalue=7.487984171959904e-24)"
      ]
     },
     "execution_count": 10,
     "metadata": {},
     "output_type": "execute_result"
    }
   ],
   "source": [
    "# if 정규성 o, 독립성o, 등분산성 o =>Anoba 검정사용\n",
    "# if 정규성 o, 독립성o, 등분산성 x => welch`s 검정사용 \n",
    "# 하지만 welcj`s anova 검정도구는 stats에 없기 때문에 \n",
    "# pingouin 라이브러리를 설치하여 사용이 가능하다.\n",
    "stats.f_oneway(p1,p2,p3)"
   ]
  },
  {
   "cell_type": "code",
   "execution_count": null,
   "id": "6856dce8-5f6e-4607-aa8a-225beec89d9f",
   "metadata": {},
   "outputs": [],
   "source": [
    "## 수치형 독립변수와 종속변수 일때\n",
    "# 상관분석, pearsonr 검정, 산점도\n",
    "## 범주형 독립변수와 종속변수 일때\n",
    "# 카이제곱 검정 ,countplot\n",
    "\n",
    "## 범주형 독립변수와 수치형 종속변수 일때 연관성에 대해서 알아보는 함수 정리 \n",
    "# 1. 범주형 변수의 클래스(범주)의 개수를 파악하여 2개인지 3개 이상인지 파악,barplot\n",
    "# 2. 2개면  t-test( 평균을 비교 통계량이 2보다 크면 차이가 있다.), 3개면 anova(분산을 비교 )\n",
    "# 3. 정규성 검정> 독립성 검정 > 등분산성 검정\n",
    "# 4. 범주가 2개 &정규성o $등분산성o >> ttest_ind(equal_var = True)\n",
    "#    범주가 2개 &정규성o $등분산성x >> ttest_ind(equal_var = False)\n",
    "#    범주가 2개 &정규성x >> manwhitneyu test\n",
    "#    범주가 3개 &정규성o % 등분산성o >> f_oneway (anova)\n",
    "#    범주가 3개 &정규성o % 등분산성x >> welcj`s anova\n",
    "#    범주가 3개 &정규성x >> kruskal\n",
    "\n",
    "## 수치형 독립변수와 범주형 종속변수 일때 (연관성에 대해서 )\n",
    "# 그래프(histogram, density)를 통해서 확인 > 집단별 그래프가 벌어질수록 차이가 있다. \n",
    "# 통계검정 X, 원인과 결과에 대한 가설이 아닐 경우엔 ttest or anova검정으로 확인할 수 있다. "
   ]
  },
  {
   "cell_type": "code",
   "execution_count": 13,
   "id": "532e5244-b19c-4cbd-9e9f-f5bcb95f0cd1",
   "metadata": {},
   "outputs": [],
   "source": [
    "import statsmodels.api as sm\n"
   ]
  },
  {
   "cell_type": "code",
   "execution_count": 18,
   "id": "99e90c86-1a85-482f-a8a4-9afd929e75f2",
   "metadata": {},
   "outputs": [
    {
     "name": "stdout",
     "output_type": "stream",
     "text": [
      "Optimization terminated successfully.\n",
      "         Current function value: 0.645631\n",
      "         Iterations 5\n",
      "x1    1.238120e-01\n",
      "x2    1.507215e-09\n",
      "dtype: float64\n"
     ]
    }
   ],
   "source": [
    "titanic2 = titanic.dropna(subset='Age',axis=0)\n",
    "model = sm.Logit(titanic2['Survived'],titanic2[['Age','Pclass']].values)\n",
    "result = model.fit()\n",
    "print(result.pvalues)"
   ]
  },
  {
   "cell_type": "code",
   "execution_count": 19,
   "id": "ed78c109-d3e9-4bb0-b117-2ed3fde13275",
   "metadata": {},
   "outputs": [
    {
     "data": {
      "text/html": [
       "<table class=\"simpletable\">\n",
       "<caption>Logit Regression Results</caption>\n",
       "<tr>\n",
       "  <th>Dep. Variable:</th>       <td>Survived</td>     <th>  No. Observations:  </th>  <td>   714</td>  \n",
       "</tr>\n",
       "<tr>\n",
       "  <th>Model:</th>                 <td>Logit</td>      <th>  Df Residuals:      </th>  <td>   712</td>  \n",
       "</tr>\n",
       "<tr>\n",
       "  <th>Method:</th>                 <td>MLE</td>       <th>  Df Model:          </th>  <td>     1</td>  \n",
       "</tr>\n",
       "<tr>\n",
       "  <th>Date:</th>            <td>Fri, 10 May 2024</td> <th>  Pseudo R-squ.:     </th>  <td>0.04412</td> \n",
       "</tr>\n",
       "<tr>\n",
       "  <th>Time:</th>                <td>10:36:42</td>     <th>  Log-Likelihood:    </th> <td> -460.98</td> \n",
       "</tr>\n",
       "<tr>\n",
       "  <th>converged:</th>             <td>True</td>       <th>  LL-Null:           </th> <td> -482.26</td> \n",
       "</tr>\n",
       "<tr>\n",
       "  <th>Covariance Type:</th>     <td>nonrobust</td>    <th>  LLR p-value:       </th> <td>6.873e-11</td>\n",
       "</tr>\n",
       "</table>\n",
       "<table class=\"simpletable\">\n",
       "<tr>\n",
       "   <td></td>     <th>coef</th>     <th>std err</th>      <th>z</th>      <th>P>|z|</th>  <th>[0.025</th>    <th>0.975]</th>  \n",
       "</tr>\n",
       "<tr>\n",
       "  <th>x1</th> <td>    0.0058</td> <td>    0.004</td> <td>    1.539</td> <td> 0.124</td> <td>   -0.002</td> <td>    0.013</td>\n",
       "</tr>\n",
       "<tr>\n",
       "  <th>x2</th> <td>   -0.3265</td> <td>    0.054</td> <td>   -6.044</td> <td> 0.000</td> <td>   -0.432</td> <td>   -0.221</td>\n",
       "</tr>\n",
       "</table>"
      ],
      "text/latex": [
       "\\begin{center}\n",
       "\\begin{tabular}{lclc}\n",
       "\\toprule\n",
       "\\textbf{Dep. Variable:}   &     Survived     & \\textbf{  No. Observations:  } &      714    \\\\\n",
       "\\textbf{Model:}           &      Logit       & \\textbf{  Df Residuals:      } &      712    \\\\\n",
       "\\textbf{Method:}          &       MLE        & \\textbf{  Df Model:          } &        1    \\\\\n",
       "\\textbf{Date:}            & Fri, 10 May 2024 & \\textbf{  Pseudo R-squ.:     } &  0.04412    \\\\\n",
       "\\textbf{Time:}            &     10:36:42     & \\textbf{  Log-Likelihood:    } &   -460.98   \\\\\n",
       "\\textbf{converged:}       &       True       & \\textbf{  LL-Null:           } &   -482.26   \\\\\n",
       "\\textbf{Covariance Type:} &    nonrobust     & \\textbf{  LLR p-value:       } & 6.873e-11   \\\\\n",
       "\\bottomrule\n",
       "\\end{tabular}\n",
       "\\begin{tabular}{lcccccc}\n",
       "            & \\textbf{coef} & \\textbf{std err} & \\textbf{z} & \\textbf{P$> |$z$|$} & \\textbf{[0.025} & \\textbf{0.975]}  \\\\\n",
       "\\midrule\n",
       "\\textbf{x1} &       0.0058  &        0.004     &     1.539  &         0.124        &       -0.002    &        0.013     \\\\\n",
       "\\textbf{x2} &      -0.3265  &        0.054     &    -6.044  &         0.000        &       -0.432    &       -0.221     \\\\\n",
       "\\bottomrule\n",
       "\\end{tabular}\n",
       "%\\caption{Logit Regression Results}\n",
       "\\end{center}"
      ],
      "text/plain": [
       "<class 'statsmodels.iolib.summary.Summary'>\n",
       "\"\"\"\n",
       "                           Logit Regression Results                           \n",
       "==============================================================================\n",
       "Dep. Variable:               Survived   No. Observations:                  714\n",
       "Model:                          Logit   Df Residuals:                      712\n",
       "Method:                           MLE   Df Model:                            1\n",
       "Date:                Fri, 10 May 2024   Pseudo R-squ.:                 0.04412\n",
       "Time:                        10:36:42   Log-Likelihood:                -460.98\n",
       "converged:                       True   LL-Null:                       -482.26\n",
       "Covariance Type:            nonrobust   LLR p-value:                 6.873e-11\n",
       "==============================================================================\n",
       "                 coef    std err          z      P>|z|      [0.025      0.975]\n",
       "------------------------------------------------------------------------------\n",
       "x1             0.0058      0.004      1.539      0.124      -0.002       0.013\n",
       "x2            -0.3265      0.054     -6.044      0.000      -0.432      -0.221\n",
       "==============================================================================\n",
       "\"\"\""
      ]
     },
     "execution_count": 19,
     "metadata": {},
     "output_type": "execute_result"
    }
   ],
   "source": [
    "result.summary()"
   ]
  },
  {
   "cell_type": "markdown",
   "id": "03c298c9-3f9c-472f-bddd-3e8cfc4ad9b8",
   "metadata": {},
   "source": [
    "2교시 실습"
   ]
  },
  {
   "cell_type": "code",
   "execution_count": null,
   "id": "e9c4755e-e6b4-4f85-9f60-c5705a66dbba",
   "metadata": {},
   "outputs": [],
   "source": [
    "# 한국복지패널 데이터\n"
   ]
  },
  {
   "cell_type": "code",
   "execution_count": 21,
   "id": "a256773b-ed73-4637-a8fe-2a80be9c908e",
   "metadata": {},
   "outputs": [],
   "source": [
    "df = pd.read_stata('data/koweps_h18_2023_beta1.dta' )"
   ]
  },
  {
   "cell_type": "code",
   "execution_count": 22,
   "id": "b46bbf4b-f915-4fb0-a4d9-9c4307775ac5",
   "metadata": {},
   "outputs": [
    {
     "data": {
      "text/plain": [
       "0       2\n",
       "1       1\n",
       "2       1\n",
       "3       1\n",
       "4       2\n",
       "       ..\n",
       "7649    1\n",
       "7650    1\n",
       "7651    1\n",
       "7652    1\n",
       "7653    1\n",
       "Name: h1801_4, Length: 7654, dtype: int8"
      ]
     },
     "execution_count": 22,
     "metadata": {},
     "output_type": "execute_result"
    }
   ],
   "source": [
    "df['h1801_4']"
   ]
  },
  {
   "cell_type": "code",
   "execution_count": 167,
   "id": "d39abf3a-d329-4924-8fd1-a7fbe4f802d0",
   "metadata": {},
   "outputs": [
    {
     "data": {
      "text/html": [
       "<div>\n",
       "<style scoped>\n",
       "    .dataframe tbody tr th:only-of-type {\n",
       "        vertical-align: middle;\n",
       "    }\n",
       "\n",
       "    .dataframe tbody tr th {\n",
       "        vertical-align: top;\n",
       "    }\n",
       "\n",
       "    .dataframe thead th {\n",
       "        text-align: right;\n",
       "    }\n",
       "</style>\n",
       "<table border=\"1\" class=\"dataframe\">\n",
       "  <thead>\n",
       "    <tr style=\"text-align: right;\">\n",
       "      <th></th>\n",
       "      <th>gender</th>\n",
       "      <th>birth</th>\n",
       "      <th>marriage_type</th>\n",
       "      <th>religion</th>\n",
       "      <th>income</th>\n",
       "      <th>code_job</th>\n",
       "      <th>code_region</th>\n",
       "    </tr>\n",
       "  </thead>\n",
       "  <tbody>\n",
       "    <tr>\n",
       "      <th>0</th>\n",
       "      <td>2.0</td>\n",
       "      <td>1945.0</td>\n",
       "      <td>2.0</td>\n",
       "      <td>1.0</td>\n",
       "      <td>NaN</td>\n",
       "      <td>NaN</td>\n",
       "      <td>1.0</td>\n",
       "    </tr>\n",
       "    <tr>\n",
       "      <th>1</th>\n",
       "      <td>1.0</td>\n",
       "      <td>1948.0</td>\n",
       "      <td>2.0</td>\n",
       "      <td>2.0</td>\n",
       "      <td>NaN</td>\n",
       "      <td>NaN</td>\n",
       "      <td>1.0</td>\n",
       "    </tr>\n",
       "    <tr>\n",
       "      <th>2</th>\n",
       "      <td>1.0</td>\n",
       "      <td>1942.0</td>\n",
       "      <td>3.0</td>\n",
       "      <td>1.0</td>\n",
       "      <td>107.0</td>\n",
       "      <td>762.0</td>\n",
       "      <td>1.0</td>\n",
       "    </tr>\n",
       "    <tr>\n",
       "      <th>3</th>\n",
       "      <td>1.0</td>\n",
       "      <td>1962.0</td>\n",
       "      <td>1.0</td>\n",
       "      <td>1.0</td>\n",
       "      <td>192.0</td>\n",
       "      <td>855.0</td>\n",
       "      <td>1.0</td>\n",
       "    </tr>\n",
       "    <tr>\n",
       "      <th>4</th>\n",
       "      <td>2.0</td>\n",
       "      <td>1963.0</td>\n",
       "      <td>1.0</td>\n",
       "      <td>1.0</td>\n",
       "      <td>NaN</td>\n",
       "      <td>NaN</td>\n",
       "      <td>1.0</td>\n",
       "    </tr>\n",
       "    <tr>\n",
       "      <th>...</th>\n",
       "      <td>...</td>\n",
       "      <td>...</td>\n",
       "      <td>...</td>\n",
       "      <td>...</td>\n",
       "      <td>...</td>\n",
       "      <td>...</td>\n",
       "      <td>...</td>\n",
       "    </tr>\n",
       "    <tr>\n",
       "      <th>14413</th>\n",
       "      <td>2.0</td>\n",
       "      <td>1967.0</td>\n",
       "      <td>1.0</td>\n",
       "      <td>1.0</td>\n",
       "      <td>NaN</td>\n",
       "      <td>NaN</td>\n",
       "      <td>5.0</td>\n",
       "    </tr>\n",
       "    <tr>\n",
       "      <th>14414</th>\n",
       "      <td>2.0</td>\n",
       "      <td>1992.0</td>\n",
       "      <td>5.0</td>\n",
       "      <td>1.0</td>\n",
       "      <td>NaN</td>\n",
       "      <td>NaN</td>\n",
       "      <td>5.0</td>\n",
       "    </tr>\n",
       "    <tr>\n",
       "      <th>14415</th>\n",
       "      <td>1.0</td>\n",
       "      <td>1995.0</td>\n",
       "      <td>5.0</td>\n",
       "      <td>1.0</td>\n",
       "      <td>NaN</td>\n",
       "      <td>910.0</td>\n",
       "      <td>5.0</td>\n",
       "    </tr>\n",
       "    <tr>\n",
       "      <th>14416</th>\n",
       "      <td>2.0</td>\n",
       "      <td>1998.0</td>\n",
       "      <td>5.0</td>\n",
       "      <td>1.0</td>\n",
       "      <td>200.0</td>\n",
       "      <td>246.0</td>\n",
       "      <td>5.0</td>\n",
       "    </tr>\n",
       "    <tr>\n",
       "      <th>14417</th>\n",
       "      <td>1.0</td>\n",
       "      <td>2001.0</td>\n",
       "      <td>0.0</td>\n",
       "      <td>1.0</td>\n",
       "      <td>NaN</td>\n",
       "      <td>NaN</td>\n",
       "      <td>5.0</td>\n",
       "    </tr>\n",
       "  </tbody>\n",
       "</table>\n",
       "<p>14418 rows × 7 columns</p>\n",
       "</div>"
      ],
      "text/plain": [
       "       gender   birth  marriage_type  religion  income  code_job  code_region\n",
       "0         2.0  1945.0            2.0       1.0     NaN       NaN          1.0\n",
       "1         1.0  1948.0            2.0       2.0     NaN       NaN          1.0\n",
       "2         1.0  1942.0            3.0       1.0   107.0     762.0          1.0\n",
       "3         1.0  1962.0            1.0       1.0   192.0     855.0          1.0\n",
       "4         2.0  1963.0            1.0       1.0     NaN       NaN          1.0\n",
       "...       ...     ...            ...       ...     ...       ...          ...\n",
       "14413     2.0  1967.0            1.0       1.0     NaN       NaN          5.0\n",
       "14414     2.0  1992.0            5.0       1.0     NaN       NaN          5.0\n",
       "14415     1.0  1995.0            5.0       1.0     NaN     910.0          5.0\n",
       "14416     2.0  1998.0            5.0       1.0   200.0     246.0          5.0\n",
       "14417     1.0  2001.0            0.0       1.0     NaN       NaN          5.0\n",
       "\n",
       "[14418 rows x 7 columns]"
      ]
     },
     "execution_count": 167,
     "metadata": {},
     "output_type": "execute_result"
    }
   ],
   "source": [
    "df = pd.read_csv('data/Koweps_hpwc14_2019.csv')\n",
    "df"
   ]
  },
  {
   "cell_type": "code",
   "execution_count": 63,
   "id": "d52b8b41-f9d4-4689-91d7-380e891f2e5a",
   "metadata": {},
   "outputs": [],
   "source": []
  },
  {
   "cell_type": "code",
   "execution_count": 64,
   "id": "baa40ff5-022e-4ab7-a933-8da2ff03558a",
   "metadata": {
    "scrolled": true
   },
   "outputs": [
    {
     "name": "stdout",
     "output_type": "stream",
     "text": [
      "<class 'pandas.core.frame.DataFrame'>\n",
      "RangeIndex: 6884 entries, 0 to 6883\n",
      "Data columns (total 9 columns):\n",
      " #   Column         Non-Null Count  Dtype  \n",
      "---  ------         --------------  -----  \n",
      " 0   gender         6878 non-null   float64\n",
      " 1   birth          6878 non-null   float64\n",
      " 2   marriage_type  6878 non-null   float64\n",
      " 3   religion       6878 non-null   float64\n",
      " 4   income         4534 non-null   float64\n",
      " 5   code_job       6884 non-null   float64\n",
      " 6   code_region    6878 non-null   float64\n",
      " 7   Age            6878 non-null   float64\n",
      " 8   job            6884 non-null   object \n",
      "dtypes: float64(8), object(1)\n",
      "memory usage: 484.2+ KB\n"
     ]
    }
   ],
   "source": [
    "df.info()"
   ]
  },
  {
   "cell_type": "code",
   "execution_count": 27,
   "id": "a389838a-d17d-4663-8c26-f351bfa7ffe1",
   "metadata": {},
   "outputs": [
    {
     "data": {
      "text/html": [
       "<div>\n",
       "<style scoped>\n",
       "    .dataframe tbody tr th:only-of-type {\n",
       "        vertical-align: middle;\n",
       "    }\n",
       "\n",
       "    .dataframe tbody tr th {\n",
       "        vertical-align: top;\n",
       "    }\n",
       "\n",
       "    .dataframe thead th {\n",
       "        text-align: right;\n",
       "    }\n",
       "</style>\n",
       "<table border=\"1\" class=\"dataframe\">\n",
       "  <thead>\n",
       "    <tr style=\"text-align: right;\">\n",
       "      <th></th>\n",
       "      <th>gender</th>\n",
       "      <th>birth</th>\n",
       "      <th>marriage_type</th>\n",
       "      <th>religion</th>\n",
       "      <th>income</th>\n",
       "      <th>code_job</th>\n",
       "      <th>code_region</th>\n",
       "    </tr>\n",
       "  </thead>\n",
       "  <tbody>\n",
       "  </tbody>\n",
       "</table>\n",
       "</div>"
      ],
      "text/plain": [
       "Empty DataFrame\n",
       "Columns: [gender, birth, marriage_type, religion, income, code_job, code_region]\n",
       "Index: []"
      ]
     },
     "execution_count": 27,
     "metadata": {},
     "output_type": "execute_result"
    }
   ],
   "source": [
    "df[df['gender']==9]"
   ]
  },
  {
   "cell_type": "code",
   "execution_count": 65,
   "id": "0efd54f6-09e7-45c9-8c1e-617f470111a7",
   "metadata": {},
   "outputs": [
    {
     "data": {
      "text/plain": [
       "gender             0\n",
       "birth              0\n",
       "marriage_type      0\n",
       "religion           0\n",
       "income             3\n",
       "code_job         155\n",
       "code_region        0\n",
       "Age                0\n",
       "job                0\n",
       "dtype: int64"
      ]
     },
     "execution_count": 65,
     "metadata": {},
     "output_type": "execute_result"
    }
   ],
   "source": [
    "df.isin([9,99,999,9999]).sum()"
   ]
  },
  {
   "cell_type": "code",
   "execution_count": 66,
   "id": "3288a5a6-d47d-4be4-81a6-372dfa933dd9",
   "metadata": {},
   "outputs": [
    {
     "data": {
      "text/html": [
       "<div>\n",
       "<style scoped>\n",
       "    .dataframe tbody tr th:only-of-type {\n",
       "        vertical-align: middle;\n",
       "    }\n",
       "\n",
       "    .dataframe tbody tr th {\n",
       "        vertical-align: top;\n",
       "    }\n",
       "\n",
       "    .dataframe thead th {\n",
       "        text-align: right;\n",
       "    }\n",
       "</style>\n",
       "<table border=\"1\" class=\"dataframe\">\n",
       "  <thead>\n",
       "    <tr style=\"text-align: right;\">\n",
       "      <th></th>\n",
       "      <th>gender</th>\n",
       "      <th>birth</th>\n",
       "      <th>marriage_type</th>\n",
       "      <th>religion</th>\n",
       "      <th>income</th>\n",
       "      <th>code_job</th>\n",
       "      <th>code_region</th>\n",
       "      <th>Age</th>\n",
       "    </tr>\n",
       "  </thead>\n",
       "  <tbody>\n",
       "    <tr>\n",
       "      <th>count</th>\n",
       "      <td>6878.000000</td>\n",
       "      <td>6878.000000</td>\n",
       "      <td>6878.000000</td>\n",
       "      <td>6878.000000</td>\n",
       "      <td>4534.000000</td>\n",
       "      <td>6884.000000</td>\n",
       "      <td>6878.000000</td>\n",
       "      <td>6878.000000</td>\n",
       "    </tr>\n",
       "    <tr>\n",
       "      <th>mean</th>\n",
       "      <td>1.476301</td>\n",
       "      <td>1966.705583</td>\n",
       "      <td>1.955656</td>\n",
       "      <td>1.544490</td>\n",
       "      <td>268.455007</td>\n",
       "      <td>587.435067</td>\n",
       "      <td>3.749927</td>\n",
       "      <td>53.294417</td>\n",
       "    </tr>\n",
       "    <tr>\n",
       "      <th>std</th>\n",
       "      <td>0.499474</td>\n",
       "      <td>16.272485</td>\n",
       "      <td>1.553069</td>\n",
       "      <td>0.498053</td>\n",
       "      <td>198.021206</td>\n",
       "      <td>264.291167</td>\n",
       "      <td>2.068335</td>\n",
       "      <td>16.272485</td>\n",
       "    </tr>\n",
       "    <tr>\n",
       "      <th>min</th>\n",
       "      <td>1.000000</td>\n",
       "      <td>1927.000000</td>\n",
       "      <td>0.000000</td>\n",
       "      <td>1.000000</td>\n",
       "      <td>0.000000</td>\n",
       "      <td>111.000000</td>\n",
       "      <td>1.000000</td>\n",
       "      <td>19.000000</td>\n",
       "    </tr>\n",
       "    <tr>\n",
       "      <th>25%</th>\n",
       "      <td>1.000000</td>\n",
       "      <td>1955.000000</td>\n",
       "      <td>1.000000</td>\n",
       "      <td>1.000000</td>\n",
       "      <td>150.000000</td>\n",
       "      <td>313.000000</td>\n",
       "      <td>2.000000</td>\n",
       "      <td>41.000000</td>\n",
       "    </tr>\n",
       "    <tr>\n",
       "      <th>50%</th>\n",
       "      <td>1.000000</td>\n",
       "      <td>1968.000000</td>\n",
       "      <td>1.000000</td>\n",
       "      <td>2.000000</td>\n",
       "      <td>220.000000</td>\n",
       "      <td>611.000000</td>\n",
       "      <td>3.000000</td>\n",
       "      <td>52.000000</td>\n",
       "    </tr>\n",
       "    <tr>\n",
       "      <th>75%</th>\n",
       "      <td>2.000000</td>\n",
       "      <td>1979.000000</td>\n",
       "      <td>2.000000</td>\n",
       "      <td>2.000000</td>\n",
       "      <td>345.750000</td>\n",
       "      <td>873.000000</td>\n",
       "      <td>6.000000</td>\n",
       "      <td>65.000000</td>\n",
       "    </tr>\n",
       "    <tr>\n",
       "      <th>max</th>\n",
       "      <td>2.000000</td>\n",
       "      <td>2001.000000</td>\n",
       "      <td>6.000000</td>\n",
       "      <td>2.000000</td>\n",
       "      <td>1892.000000</td>\n",
       "      <td>1009.000000</td>\n",
       "      <td>7.000000</td>\n",
       "      <td>93.000000</td>\n",
       "    </tr>\n",
       "  </tbody>\n",
       "</table>\n",
       "</div>"
      ],
      "text/plain": [
       "            gender        birth  marriage_type     religion       income  \\\n",
       "count  6878.000000  6878.000000    6878.000000  6878.000000  4534.000000   \n",
       "mean      1.476301  1966.705583       1.955656     1.544490   268.455007   \n",
       "std       0.499474    16.272485       1.553069     0.498053   198.021206   \n",
       "min       1.000000  1927.000000       0.000000     1.000000     0.000000   \n",
       "25%       1.000000  1955.000000       1.000000     1.000000   150.000000   \n",
       "50%       1.000000  1968.000000       1.000000     2.000000   220.000000   \n",
       "75%       2.000000  1979.000000       2.000000     2.000000   345.750000   \n",
       "max       2.000000  2001.000000       6.000000     2.000000  1892.000000   \n",
       "\n",
       "          code_job  code_region          Age  \n",
       "count  6884.000000  6878.000000  6878.000000  \n",
       "mean    587.435067     3.749927    53.294417  \n",
       "std     264.291167     2.068335    16.272485  \n",
       "min     111.000000     1.000000    19.000000  \n",
       "25%     313.000000     2.000000    41.000000  \n",
       "50%     611.000000     3.000000    52.000000  \n",
       "75%     873.000000     6.000000    65.000000  \n",
       "max    1009.000000     7.000000    93.000000  "
      ]
     },
     "execution_count": 66,
     "metadata": {},
     "output_type": "execute_result"
    }
   ],
   "source": [
    "df.describe()"
   ]
  },
  {
   "cell_type": "code",
   "execution_count": 67,
   "id": "c0178a4c-73d3-4855-959b-1f6b496e969c",
   "metadata": {},
   "outputs": [
    {
     "data": {
      "text/plain": [
       "0       34.0\n",
       "1       38.0\n",
       "2       60.0\n",
       "3       59.0\n",
       "4       60.0\n",
       "        ... \n",
       "6879    49.0\n",
       "6880    34.0\n",
       "6881    38.0\n",
       "6882    27.0\n",
       "6883    48.0\n",
       "Name: birth, Length: 6884, dtype: float64"
      ]
     },
     "execution_count": 67,
     "metadata": {},
     "output_type": "execute_result"
    }
   ],
   "source": [
    "2019 - df['birth'] + 1"
   ]
  },
  {
   "cell_type": "code",
   "execution_count": 168,
   "id": "e5f549e4-fa48-497a-82f9-f4e245fee5a7",
   "metadata": {},
   "outputs": [],
   "source": [
    "df['Age'] = 2019 - df['birth'] + 1"
   ]
  },
  {
   "cell_type": "code",
   "execution_count": 169,
   "id": "7332e47d-d6a2-45af-bf78-fa285eae395f",
   "metadata": {},
   "outputs": [
    {
     "data": {
      "text/plain": [
       "count    14418.000000\n",
       "mean        50.719795\n",
       "std         24.402250\n",
       "min          2.000000\n",
       "25%         30.000000\n",
       "50%         52.000000\n",
       "75%         72.000000\n",
       "max        113.000000\n",
       "Name: Age, dtype: float64"
      ]
     },
     "execution_count": 169,
     "metadata": {},
     "output_type": "execute_result"
    }
   ],
   "source": [
    "df['Age'].describe()"
   ]
  },
  {
   "cell_type": "code",
   "execution_count": 70,
   "id": "f68b5a3b-6eb5-408a-8e10-2b6a00bad60f",
   "metadata": {},
   "outputs": [],
   "source": [
    "import matplotlib.pyplot as plt"
   ]
  },
  {
   "cell_type": "code",
   "execution_count": 71,
   "id": "2b97d2d6-c4d9-4e20-bf9c-9d9a31b05fc0",
   "metadata": {},
   "outputs": [
    {
     "data": {
      "image/png": "[encoded data removed]",
      "text/plain": [
       "<Figure size 400x200 with 2 Axes>"
      ]
     },
     "metadata": {},
     "output_type": "display_data"
    }
   ],
   "source": [
    "plt.figure(figsize=(4,2))\n",
    "plt.subplot(2,1,1)\n",
    "sns.histplot(df['Age'],kde =True)\n",
    "\n",
    "\n",
    "plt.subplot(2,1,2)\n",
    "sns.boxplot(data = df, x = 'Age')\n",
    "plt.tight_layout()\n",
    "\n",
    "## 수치형 히스토그램. 덴시티플랏 /박스플랏 "
   ]
  },
  {
   "cell_type": "code",
   "execution_count": 72,
   "id": "ea5ebc40-726e-4b3a-adca-eeb3f9001fda",
   "metadata": {},
   "outputs": [
    {
     "data": {
      "image/png": "[encoded data removed]",
      "text/plain": [
       "<Figure size 640x480 with 2 Axes>"
      ]
     },
     "metadata": {},
     "output_type": "display_data"
    }
   ],
   "source": [
    "\n",
    "plt.subplot(2,1,1)\n",
    "sns.histplot(df['income'],kde =True)\n",
    "\n",
    "\n",
    "plt.subplot(2,1,2)\n",
    "sns.boxplot(data = df, x = 'income')\n",
    "plt.tight_layout()"
   ]
  },
  {
   "cell_type": "code",
   "execution_count": 73,
   "id": "ff5e3cf9-8a21-4788-8c65-15fc986d305e",
   "metadata": {},
   "outputs": [
    {
     "data": {
      "text/plain": [
       "665.0"
      ]
     },
     "execution_count": 73,
     "metadata": {},
     "output_type": "execute_result"
    }
   ],
   "source": [
    "# z-score 를 사용한 이상치 검출\n",
    "\n",
    "z = ( df['income'] - df['income'].mean()) / df['income'].std()  # z-score 구하는 식  \n",
    "df[abs(z) > 2]['income'].min()"
   ]
  },
  {
   "cell_type": "code",
   "execution_count": 74,
   "id": "b03c1f8e-bf64-4628-95b7-8a77f94558a7",
   "metadata": {},
   "outputs": [
    {
     "data": {
      "text/plain": [
       "239"
      ]
     },
     "execution_count": 74,
     "metadata": {},
     "output_type": "execute_result"
    }
   ],
   "source": [
    "df[abs(z) > 2]['income'].size  # 이상치가 몇명인지 확인 "
   ]
  },
  {
   "cell_type": "code",
   "execution_count": 75,
   "id": "5d9c6f8a-2972-4edb-869e-83eed69fc574",
   "metadata": {},
   "outputs": [
    {
     "data": {
      "text/plain": [
       "Index([   4,    6,    8,   12,   14,   15,   19,   22,   23,   26,\n",
       "       ...\n",
       "       5007, 5013, 5037, 5045, 5047, 5373, 5399, 5549, 6867, 6869],\n",
       "      dtype='int64', length=239)"
      ]
     },
     "execution_count": 75,
     "metadata": {},
     "output_type": "execute_result"
    }
   ],
   "source": [
    "df[abs(z) > 2]['income'].index # 이상치가 있는 행을 없애기위해 인덱스 검색 "
   ]
  },
  {
   "cell_type": "code",
   "execution_count": 76,
   "id": "8d00037b-d27d-42bb-8a54-035d2649ab2f",
   "metadata": {},
   "outputs": [],
   "source": [
    "df2 = df.drop(df[abs(z) > 2]['income'].index) # 이상치를 지운 값을 변수로 저장 "
   ]
  },
  {
   "cell_type": "code",
   "execution_count": 54,
   "id": "3735617d-51e7-4a32-9990-6d1d14aefbba",
   "metadata": {},
   "outputs": [
    {
     "data": {
      "image/png": "[encoded data removed]",
      "text/plain": [
       "<Figure size 640x480 with 2 Axes>"
      ]
     },
     "metadata": {},
     "output_type": "display_data"
    }
   ],
   "source": [
    "plt.subplot(2,1,1)\n",
    "sns.histplot(df2['income'],kde =True)\n",
    "\n",
    "\n",
    "plt.subplot(2,1,2)\n",
    "sns.boxplot(data = df2, x = 'income')\n",
    "plt.tight_layout()"
   ]
  },
  {
   "cell_type": "code",
   "execution_count": 56,
   "id": "498c4508-6999-4558-95c5-793975341f45",
   "metadata": {},
   "outputs": [
    {
     "data": {
      "text/html": [
       "<div>\n",
       "<style scoped>\n",
       "    .dataframe tbody tr th:only-of-type {\n",
       "        vertical-align: middle;\n",
       "    }\n",
       "\n",
       "    .dataframe tbody tr th {\n",
       "        vertical-align: top;\n",
       "    }\n",
       "\n",
       "    .dataframe thead th {\n",
       "        text-align: right;\n",
       "    }\n",
       "</style>\n",
       "<table border=\"1\" class=\"dataframe\">\n",
       "  <thead>\n",
       "    <tr style=\"text-align: right;\">\n",
       "      <th></th>\n",
       "      <th>gender</th>\n",
       "      <th>birth</th>\n",
       "      <th>marriage_type</th>\n",
       "      <th>religion</th>\n",
       "      <th>income</th>\n",
       "      <th>code_job</th>\n",
       "      <th>code_region</th>\n",
       "      <th>Age</th>\n",
       "    </tr>\n",
       "  </thead>\n",
       "  <tbody>\n",
       "    <tr>\n",
       "      <th>4715</th>\n",
       "      <td>2.0</td>\n",
       "      <td>1983.0</td>\n",
       "      <td>1.0</td>\n",
       "      <td>2.0</td>\n",
       "      <td>0.0</td>\n",
       "      <td>311.0</td>\n",
       "      <td>5.0</td>\n",
       "      <td>37.0</td>\n",
       "    </tr>\n",
       "    <tr>\n",
       "      <th>6347</th>\n",
       "      <td>2.0</td>\n",
       "      <td>1983.0</td>\n",
       "      <td>1.0</td>\n",
       "      <td>1.0</td>\n",
       "      <td>0.0</td>\n",
       "      <td>252.0</td>\n",
       "      <td>1.0</td>\n",
       "      <td>37.0</td>\n",
       "    </tr>\n",
       "    <tr>\n",
       "      <th>6632</th>\n",
       "      <td>2.0</td>\n",
       "      <td>1991.0</td>\n",
       "      <td>5.0</td>\n",
       "      <td>1.0</td>\n",
       "      <td>0.0</td>\n",
       "      <td>313.0</td>\n",
       "      <td>2.0</td>\n",
       "      <td>29.0</td>\n",
       "    </tr>\n",
       "    <tr>\n",
       "      <th>10487</th>\n",
       "      <td>2.0</td>\n",
       "      <td>1980.0</td>\n",
       "      <td>1.0</td>\n",
       "      <td>2.0</td>\n",
       "      <td>0.0</td>\n",
       "      <td>311.0</td>\n",
       "      <td>3.0</td>\n",
       "      <td>40.0</td>\n",
       "    </tr>\n",
       "    <tr>\n",
       "      <th>10620</th>\n",
       "      <td>2.0</td>\n",
       "      <td>1985.0</td>\n",
       "      <td>1.0</td>\n",
       "      <td>1.0</td>\n",
       "      <td>0.0</td>\n",
       "      <td>320.0</td>\n",
       "      <td>3.0</td>\n",
       "      <td>35.0</td>\n",
       "    </tr>\n",
       "    <tr>\n",
       "      <th>10818</th>\n",
       "      <td>2.0</td>\n",
       "      <td>1981.0</td>\n",
       "      <td>1.0</td>\n",
       "      <td>1.0</td>\n",
       "      <td>0.0</td>\n",
       "      <td>243.0</td>\n",
       "      <td>3.0</td>\n",
       "      <td>39.0</td>\n",
       "    </tr>\n",
       "    <tr>\n",
       "      <th>13654</th>\n",
       "      <td>2.0</td>\n",
       "      <td>1978.0</td>\n",
       "      <td>1.0</td>\n",
       "      <td>1.0</td>\n",
       "      <td>0.0</td>\n",
       "      <td>252.0</td>\n",
       "      <td>6.0</td>\n",
       "      <td>42.0</td>\n",
       "    </tr>\n",
       "  </tbody>\n",
       "</table>\n",
       "</div>"
      ],
      "text/plain": [
       "       gender   birth  marriage_type  religion  income  code_job  code_region  \\\n",
       "4715      2.0  1983.0            1.0       2.0     0.0     311.0          5.0   \n",
       "6347      2.0  1983.0            1.0       1.0     0.0     252.0          1.0   \n",
       "6632      2.0  1991.0            5.0       1.0     0.0     313.0          2.0   \n",
       "10487     2.0  1980.0            1.0       2.0     0.0     311.0          3.0   \n",
       "10620     2.0  1985.0            1.0       1.0     0.0     320.0          3.0   \n",
       "10818     2.0  1981.0            1.0       1.0     0.0     243.0          3.0   \n",
       "13654     2.0  1978.0            1.0       1.0     0.0     252.0          6.0   \n",
       "\n",
       "        Age  \n",
       "4715   37.0  \n",
       "6347   37.0  \n",
       "6632   29.0  \n",
       "10487  40.0  \n",
       "10620  35.0  \n",
       "10818  39.0  \n",
       "13654  42.0  "
      ]
     },
     "execution_count": 56,
     "metadata": {},
     "output_type": "execute_result"
    }
   ],
   "source": [
    "df[df['income'] ==0]"
   ]
  },
  {
   "cell_type": "code",
   "execution_count": 148,
   "id": "fb1729c0-84c9-4fd6-a833-2890abefa2e5",
   "metadata": {},
   "outputs": [],
   "source": [
    "codejob= pd.read_csv('data/Koweps_code_job_2019.csv', encoding = 'euc-kr') # 합치는 방법 콩캣은 열이나 행 하나는 맞아야 함 여기서는 머지밖에 없음! "
   ]
  },
  {
   "cell_type": "code",
   "execution_count": 149,
   "id": "a99dfcb4-3ee5-48eb-9041-dd1cdb69b834",
   "metadata": {},
   "outputs": [
    {
     "data": {
      "text/html": [
       "<div>\n",
       "<style scoped>\n",
       "    .dataframe tbody tr th:only-of-type {\n",
       "        vertical-align: middle;\n",
       "    }\n",
       "\n",
       "    .dataframe tbody tr th {\n",
       "        vertical-align: top;\n",
       "    }\n",
       "\n",
       "    .dataframe thead th {\n",
       "        text-align: right;\n",
       "    }\n",
       "</style>\n",
       "<table border=\"1\" class=\"dataframe\">\n",
       "  <thead>\n",
       "    <tr style=\"text-align: right;\">\n",
       "      <th></th>\n",
       "      <th>code_job</th>\n",
       "      <th>job</th>\n",
       "    </tr>\n",
       "  </thead>\n",
       "  <tbody>\n",
       "    <tr>\n",
       "      <th>0</th>\n",
       "      <td>111</td>\n",
       "      <td>의회 의원?고위 공무원 및 공공단체 임원</td>\n",
       "    </tr>\n",
       "    <tr>\n",
       "      <th>1</th>\n",
       "      <td>112</td>\n",
       "      <td>기업 고위 임원</td>\n",
       "    </tr>\n",
       "    <tr>\n",
       "      <th>2</th>\n",
       "      <td>121</td>\n",
       "      <td>행정 및 경영 지원 관리자</td>\n",
       "    </tr>\n",
       "    <tr>\n",
       "      <th>3</th>\n",
       "      <td>122</td>\n",
       "      <td>마케팅 및 광고?홍보 관리자</td>\n",
       "    </tr>\n",
       "    <tr>\n",
       "      <th>4</th>\n",
       "      <td>131</td>\n",
       "      <td>연구?교육 및 법률 관련 관리자</td>\n",
       "    </tr>\n",
       "  </tbody>\n",
       "</table>\n",
       "</div>"
      ],
      "text/plain": [
       "   code_job                     job\n",
       "0       111  의회 의원?고위 공무원 및 공공단체 임원\n",
       "1       112                기업 고위 임원\n",
       "2       121          행정 및 경영 지원 관리자\n",
       "3       122         마케팅 및 광고?홍보 관리자\n",
       "4       131       연구?교육 및 법률 관련 관리자"
      ]
     },
     "execution_count": 149,
     "metadata": {},
     "output_type": "execute_result"
    }
   ],
   "source": [
    "codejob.head() # 같은 콜롬명 중복되는 값 찾기 "
   ]
  },
  {
   "cell_type": "code",
   "execution_count": 173,
   "id": "7d316602-38bc-4057-9f97-48be5557b798",
   "metadata": {},
   "outputs": [],
   "source": [
    "df = df.merge(codejob, how='left')"
   ]
  },
  {
   "cell_type": "code",
   "execution_count": 174,
   "id": "11bc76a0-1e98-4648-b730-ee217667f622",
   "metadata": {},
   "outputs": [
    {
     "data": {
      "text/html": [
       "<div>\n",
       "<style scoped>\n",
       "    .dataframe tbody tr th:only-of-type {\n",
       "        vertical-align: middle;\n",
       "    }\n",
       "\n",
       "    .dataframe tbody tr th {\n",
       "        vertical-align: top;\n",
       "    }\n",
       "\n",
       "    .dataframe thead th {\n",
       "        text-align: right;\n",
       "    }\n",
       "</style>\n",
       "<table border=\"1\" class=\"dataframe\">\n",
       "  <thead>\n",
       "    <tr style=\"text-align: right;\">\n",
       "      <th></th>\n",
       "      <th>gender</th>\n",
       "      <th>birth</th>\n",
       "      <th>marriage_type</th>\n",
       "      <th>religion</th>\n",
       "      <th>income</th>\n",
       "      <th>code_job</th>\n",
       "      <th>code_region</th>\n",
       "      <th>Age</th>\n",
       "      <th>job</th>\n",
       "    </tr>\n",
       "  </thead>\n",
       "  <tbody>\n",
       "    <tr>\n",
       "      <th>0</th>\n",
       "      <td>2.0</td>\n",
       "      <td>1945.0</td>\n",
       "      <td>2.0</td>\n",
       "      <td>1.0</td>\n",
       "      <td>NaN</td>\n",
       "      <td>NaN</td>\n",
       "      <td>1.0</td>\n",
       "      <td>75.0</td>\n",
       "      <td>NaN</td>\n",
       "    </tr>\n",
       "    <tr>\n",
       "      <th>1</th>\n",
       "      <td>1.0</td>\n",
       "      <td>1948.0</td>\n",
       "      <td>2.0</td>\n",
       "      <td>2.0</td>\n",
       "      <td>NaN</td>\n",
       "      <td>NaN</td>\n",
       "      <td>1.0</td>\n",
       "      <td>72.0</td>\n",
       "      <td>NaN</td>\n",
       "    </tr>\n",
       "    <tr>\n",
       "      <th>2</th>\n",
       "      <td>1.0</td>\n",
       "      <td>1942.0</td>\n",
       "      <td>3.0</td>\n",
       "      <td>1.0</td>\n",
       "      <td>107.0</td>\n",
       "      <td>762.0</td>\n",
       "      <td>1.0</td>\n",
       "      <td>78.0</td>\n",
       "      <td>전기공</td>\n",
       "    </tr>\n",
       "    <tr>\n",
       "      <th>3</th>\n",
       "      <td>1.0</td>\n",
       "      <td>1962.0</td>\n",
       "      <td>1.0</td>\n",
       "      <td>1.0</td>\n",
       "      <td>192.0</td>\n",
       "      <td>855.0</td>\n",
       "      <td>1.0</td>\n",
       "      <td>58.0</td>\n",
       "      <td>금속기계 부품 조립원</td>\n",
       "    </tr>\n",
       "    <tr>\n",
       "      <th>4</th>\n",
       "      <td>2.0</td>\n",
       "      <td>1963.0</td>\n",
       "      <td>1.0</td>\n",
       "      <td>1.0</td>\n",
       "      <td>NaN</td>\n",
       "      <td>NaN</td>\n",
       "      <td>1.0</td>\n",
       "      <td>57.0</td>\n",
       "      <td>NaN</td>\n",
       "    </tr>\n",
       "    <tr>\n",
       "      <th>...</th>\n",
       "      <td>...</td>\n",
       "      <td>...</td>\n",
       "      <td>...</td>\n",
       "      <td>...</td>\n",
       "      <td>...</td>\n",
       "      <td>...</td>\n",
       "      <td>...</td>\n",
       "      <td>...</td>\n",
       "      <td>...</td>\n",
       "    </tr>\n",
       "    <tr>\n",
       "      <th>14413</th>\n",
       "      <td>2.0</td>\n",
       "      <td>1967.0</td>\n",
       "      <td>1.0</td>\n",
       "      <td>1.0</td>\n",
       "      <td>NaN</td>\n",
       "      <td>NaN</td>\n",
       "      <td>5.0</td>\n",
       "      <td>53.0</td>\n",
       "      <td>NaN</td>\n",
       "    </tr>\n",
       "    <tr>\n",
       "      <th>14414</th>\n",
       "      <td>2.0</td>\n",
       "      <td>1992.0</td>\n",
       "      <td>5.0</td>\n",
       "      <td>1.0</td>\n",
       "      <td>NaN</td>\n",
       "      <td>NaN</td>\n",
       "      <td>5.0</td>\n",
       "      <td>28.0</td>\n",
       "      <td>NaN</td>\n",
       "    </tr>\n",
       "    <tr>\n",
       "      <th>14415</th>\n",
       "      <td>1.0</td>\n",
       "      <td>1995.0</td>\n",
       "      <td>5.0</td>\n",
       "      <td>1.0</td>\n",
       "      <td>NaN</td>\n",
       "      <td>910.0</td>\n",
       "      <td>5.0</td>\n",
       "      <td>25.0</td>\n",
       "      <td>건설 및 광업 단순 종사자</td>\n",
       "    </tr>\n",
       "    <tr>\n",
       "      <th>14416</th>\n",
       "      <td>2.0</td>\n",
       "      <td>1998.0</td>\n",
       "      <td>5.0</td>\n",
       "      <td>1.0</td>\n",
       "      <td>200.0</td>\n",
       "      <td>246.0</td>\n",
       "      <td>5.0</td>\n",
       "      <td>22.0</td>\n",
       "      <td>보건 의료 관련 종사자</td>\n",
       "    </tr>\n",
       "    <tr>\n",
       "      <th>14417</th>\n",
       "      <td>1.0</td>\n",
       "      <td>2001.0</td>\n",
       "      <td>0.0</td>\n",
       "      <td>1.0</td>\n",
       "      <td>NaN</td>\n",
       "      <td>NaN</td>\n",
       "      <td>5.0</td>\n",
       "      <td>19.0</td>\n",
       "      <td>NaN</td>\n",
       "    </tr>\n",
       "  </tbody>\n",
       "</table>\n",
       "<p>14418 rows × 9 columns</p>\n",
       "</div>"
      ],
      "text/plain": [
       "       gender   birth  marriage_type  religion  income  code_job  code_region  \\\n",
       "0         2.0  1945.0            2.0       1.0     NaN       NaN          1.0   \n",
       "1         1.0  1948.0            2.0       2.0     NaN       NaN          1.0   \n",
       "2         1.0  1942.0            3.0       1.0   107.0     762.0          1.0   \n",
       "3         1.0  1962.0            1.0       1.0   192.0     855.0          1.0   \n",
       "4         2.0  1963.0            1.0       1.0     NaN       NaN          1.0   \n",
       "...       ...     ...            ...       ...     ...       ...          ...   \n",
       "14413     2.0  1967.0            1.0       1.0     NaN       NaN          5.0   \n",
       "14414     2.0  1992.0            5.0       1.0     NaN       NaN          5.0   \n",
       "14415     1.0  1995.0            5.0       1.0     NaN     910.0          5.0   \n",
       "14416     2.0  1998.0            5.0       1.0   200.0     246.0          5.0   \n",
       "14417     1.0  2001.0            0.0       1.0     NaN       NaN          5.0   \n",
       "\n",
       "        Age             job  \n",
       "0      75.0             NaN  \n",
       "1      72.0             NaN  \n",
       "2      78.0             전기공  \n",
       "3      58.0     금속기계 부품 조립원  \n",
       "4      57.0             NaN  \n",
       "...     ...             ...  \n",
       "14413  53.0             NaN  \n",
       "14414  28.0             NaN  \n",
       "14415  25.0  건설 및 광업 단순 종사자  \n",
       "14416  22.0    보건 의료 관련 종사자  \n",
       "14417  19.0             NaN  \n",
       "\n",
       "[14418 rows x 9 columns]"
      ]
     },
     "execution_count": 174,
     "metadata": {},
     "output_type": "execute_result"
    }
   ],
   "source": [
    "\n",
    "df"
   ]
  },
  {
   "cell_type": "code",
   "execution_count": 152,
   "id": "9ba19125-d6da-4007-8d49-9df2c4b771d0",
   "metadata": {},
   "outputs": [
    {
     "data": {
      "text/html": [
       "<div>\n",
       "<style scoped>\n",
       "    .dataframe tbody tr th:only-of-type {\n",
       "        vertical-align: middle;\n",
       "    }\n",
       "\n",
       "    .dataframe tbody tr th {\n",
       "        vertical-align: top;\n",
       "    }\n",
       "\n",
       "    .dataframe thead th {\n",
       "        text-align: right;\n",
       "    }\n",
       "</style>\n",
       "<table border=\"1\" class=\"dataframe\">\n",
       "  <thead>\n",
       "    <tr style=\"text-align: right;\">\n",
       "      <th></th>\n",
       "      <th>gender</th>\n",
       "      <th>birth</th>\n",
       "      <th>marriage_type</th>\n",
       "      <th>religion</th>\n",
       "      <th>income</th>\n",
       "      <th>code_job</th>\n",
       "      <th>code_region</th>\n",
       "      <th>job</th>\n",
       "      <th>Age</th>\n",
       "    </tr>\n",
       "  </thead>\n",
       "  <tbody>\n",
       "    <tr>\n",
       "      <th>495</th>\n",
       "      <td>2.0</td>\n",
       "      <td>1981.0</td>\n",
       "      <td>1.0</td>\n",
       "      <td>1.0</td>\n",
       "      <td>0.0</td>\n",
       "      <td>243.0</td>\n",
       "      <td>3.0</td>\n",
       "      <td>간호사</td>\n",
       "      <td>39.0</td>\n",
       "    </tr>\n",
       "    <tr>\n",
       "      <th>779</th>\n",
       "      <td>2.0</td>\n",
       "      <td>1983.0</td>\n",
       "      <td>1.0</td>\n",
       "      <td>1.0</td>\n",
       "      <td>0.0</td>\n",
       "      <td>252.0</td>\n",
       "      <td>1.0</td>\n",
       "      <td>학교 교사</td>\n",
       "      <td>37.0</td>\n",
       "    </tr>\n",
       "    <tr>\n",
       "      <th>831</th>\n",
       "      <td>2.0</td>\n",
       "      <td>1978.0</td>\n",
       "      <td>1.0</td>\n",
       "      <td>1.0</td>\n",
       "      <td>0.0</td>\n",
       "      <td>252.0</td>\n",
       "      <td>6.0</td>\n",
       "      <td>학교 교사</td>\n",
       "      <td>42.0</td>\n",
       "    </tr>\n",
       "    <tr>\n",
       "      <th>1201</th>\n",
       "      <td>2.0</td>\n",
       "      <td>1983.0</td>\n",
       "      <td>1.0</td>\n",
       "      <td>2.0</td>\n",
       "      <td>0.0</td>\n",
       "      <td>311.0</td>\n",
       "      <td>5.0</td>\n",
       "      <td>행정 사무원</td>\n",
       "      <td>37.0</td>\n",
       "    </tr>\n",
       "    <tr>\n",
       "      <th>1263</th>\n",
       "      <td>2.0</td>\n",
       "      <td>1980.0</td>\n",
       "      <td>1.0</td>\n",
       "      <td>2.0</td>\n",
       "      <td>0.0</td>\n",
       "      <td>311.0</td>\n",
       "      <td>3.0</td>\n",
       "      <td>행정 사무원</td>\n",
       "      <td>40.0</td>\n",
       "    </tr>\n",
       "    <tr>\n",
       "      <th>1682</th>\n",
       "      <td>2.0</td>\n",
       "      <td>1991.0</td>\n",
       "      <td>5.0</td>\n",
       "      <td>1.0</td>\n",
       "      <td>0.0</td>\n",
       "      <td>313.0</td>\n",
       "      <td>2.0</td>\n",
       "      <td>회계 및 경리 사무원</td>\n",
       "      <td>29.0</td>\n",
       "    </tr>\n",
       "    <tr>\n",
       "      <th>1916</th>\n",
       "      <td>2.0</td>\n",
       "      <td>1985.0</td>\n",
       "      <td>1.0</td>\n",
       "      <td>1.0</td>\n",
       "      <td>0.0</td>\n",
       "      <td>320.0</td>\n",
       "      <td>3.0</td>\n",
       "      <td>금융 사무 종사자</td>\n",
       "      <td>35.0</td>\n",
       "    </tr>\n",
       "  </tbody>\n",
       "</table>\n",
       "</div>"
      ],
      "text/plain": [
       "      gender   birth  marriage_type  religion  income  code_job  code_region  \\\n",
       "495      2.0  1981.0            1.0       1.0     0.0     243.0          3.0   \n",
       "779      2.0  1983.0            1.0       1.0     0.0     252.0          1.0   \n",
       "831      2.0  1978.0            1.0       1.0     0.0     252.0          6.0   \n",
       "1201     2.0  1983.0            1.0       2.0     0.0     311.0          5.0   \n",
       "1263     2.0  1980.0            1.0       2.0     0.0     311.0          3.0   \n",
       "1682     2.0  1991.0            5.0       1.0     0.0     313.0          2.0   \n",
       "1916     2.0  1985.0            1.0       1.0     0.0     320.0          3.0   \n",
       "\n",
       "              job   Age  \n",
       "495           간호사  39.0  \n",
       "779         학교 교사  37.0  \n",
       "831         학교 교사  42.0  \n",
       "1201       행정 사무원  37.0  \n",
       "1263       행정 사무원  40.0  \n",
       "1682  회계 및 경리 사무원  29.0  \n",
       "1916    금융 사무 종사자  35.0  "
      ]
     },
     "execution_count": 152,
     "metadata": {},
     "output_type": "execute_result"
    }
   ],
   "source": [
    "df[df['income']==0]"
   ]
  },
  {
   "cell_type": "code",
   "execution_count": 153,
   "id": "98f64001-0999-4789-82fb-c30880fec75a",
   "metadata": {},
   "outputs": [
    {
     "data": {
      "text/plain": [
       "Index(['gender', 'birth', 'marriage_type', 'religion', 'income', 'code_job',\n",
       "       'code_region', 'job', 'Age'],\n",
       "      dtype='object')"
      ]
     },
     "execution_count": 153,
     "metadata": {},
     "output_type": "execute_result"
    }
   ],
   "source": [
    "# 범주형 데이터 처리 \n",
    "df.columns"
   ]
  },
  {
   "cell_type": "code",
   "execution_count": 154,
   "id": "46648f65-6a9c-411d-bb3b-60c36b837b17",
   "metadata": {},
   "outputs": [
    {
     "data": {
      "text/plain": [
       "gender\n",
       "1.0    3602\n",
       "2.0    3276\n",
       "Name: count, dtype: int64"
      ]
     },
     "execution_count": 154,
     "metadata": {},
     "output_type": "execute_result"
    }
   ],
   "source": [
    "df['gender'].value_counts() # 성별 값 구하기 "
   ]
  },
  {
   "cell_type": "code",
   "execution_count": 155,
   "id": "2a96d354-31d0-4c1b-8b50-27ca099d593f",
   "metadata": {},
   "outputs": [
    {
     "data": {
      "text/plain": [
       "<Axes: xlabel='gender', ylabel='count'>"
      ]
     },
     "execution_count": 155,
     "metadata": {},
     "output_type": "execute_result"
    },
    {
     "data": {
      "image/png": "[encoded data removed]",
      "text/plain": [
       "<Figure size 640x480 with 1 Axes>"
      ]
     },
     "metadata": {},
     "output_type": "display_data"
    }
   ],
   "source": [
    "sns.countplot(data = df, x ='gender') # 2가 여성 "
   ]
  },
  {
   "cell_type": "code",
   "execution_count": 156,
   "id": "0413530b-d810-4f4d-b40c-5e5b75f79118",
   "metadata": {},
   "outputs": [
    {
     "data": {
      "text/plain": [
       "marriage_type\n",
       "1.0    4598\n",
       "5.0    1263\n",
       "2.0     558\n",
       "3.0     404\n",
       "4.0      51\n",
       "0.0       3\n",
       "6.0       1\n",
       "Name: count, dtype: int64"
      ]
     },
     "execution_count": 156,
     "metadata": {},
     "output_type": "execute_result"
    }
   ],
   "source": [
    "df['marriage_type'].value_counts()  # 혼인상태 확인"
   ]
  },
  {
   "cell_type": "code",
   "execution_count": 157,
   "id": "5d7a83af-2448-45b9-9b6b-8f3f360d95d9",
   "metadata": {},
   "outputs": [],
   "source": [
    "m_cnt = df['marriage_type'].value_counts()  / df.shape[0] # 데이터 전체로 나눈다 . 메리지 타입 size로 해도 됨  비율그래프로 만들기 위해 비율 구하기 "
   ]
  },
  {
   "cell_type": "code",
   "execution_count": 158,
   "id": "aebe95f4-0c49-43a9-a27b-a0bc231a6e75",
   "metadata": {},
   "outputs": [
    {
     "data": {
      "text/plain": [
       "marriage_type\n",
       "1.0    0.667926\n",
       "5.0    0.183469\n",
       "2.0    0.081058\n",
       "3.0    0.058687\n",
       "4.0    0.007408\n",
       "0.0    0.000436\n",
       "6.0    0.000145\n",
       "Name: count, dtype: float64"
      ]
     },
     "execution_count": 158,
     "metadata": {},
     "output_type": "execute_result"
    }
   ],
   "source": [
    "m_cnt"
   ]
  },
  {
   "cell_type": "code",
   "execution_count": 159,
   "id": "dd58cc40-c260-42cc-8786-1099536962ab",
   "metadata": {},
   "outputs": [],
   "source": [
    "from matplotlib import font_manager, rc \n",
    "font = 'C:/Windows/Fonts/Malgun.ttf'   # <, 맑은 고딕 체 \n",
    "font_name = font_manager.FontProperties(fname=font).get_name()\n",
    "rc('font', family=font_name)\n"
   ]
  },
  {
   "cell_type": "code",
   "execution_count": 160,
   "id": "6f9d330c-9f88-45d0-8a09-f7b8f9d1ad25",
   "metadata": {},
   "outputs": [
    {
     "data": {
      "image/png": "[encoded data removed]",
      "text/plain": [
       "<Figure size 1000x1000 with 1 Axes>"
      ]
     },
     "metadata": {},
     "output_type": "display_data"
    }
   ],
   "source": [
    "plt.figure(figsize=(10,10))\n",
    "plt.pie(m_cnt, labels=['기혼', '미혼', '비행당', '사별', '이혼', '별거', '기타'])\n",
    "plt.show()   # 비율로서 절반이 기혼이라는 것을 확인 가능 "
   ]
  },
  {
   "cell_type": "code",
   "execution_count": 161,
   "id": "159ac030-2b05-44e8-b8ad-e40a5f1a87f9",
   "metadata": {},
   "outputs": [
    {
     "data": {
      "text/html": [
       "<div>\n",
       "<style scoped>\n",
       "    .dataframe tbody tr th:only-of-type {\n",
       "        vertical-align: middle;\n",
       "    }\n",
       "\n",
       "    .dataframe tbody tr th {\n",
       "        vertical-align: top;\n",
       "    }\n",
       "\n",
       "    .dataframe thead th {\n",
       "        text-align: right;\n",
       "    }\n",
       "</style>\n",
       "<table border=\"1\" class=\"dataframe\">\n",
       "  <thead>\n",
       "    <tr style=\"text-align: right;\">\n",
       "      <th></th>\n",
       "      <th>gender</th>\n",
       "      <th>birth</th>\n",
       "      <th>marriage_type</th>\n",
       "      <th>religion</th>\n",
       "      <th>income</th>\n",
       "      <th>code_job</th>\n",
       "      <th>code_region</th>\n",
       "      <th>job</th>\n",
       "      <th>Age</th>\n",
       "    </tr>\n",
       "  </thead>\n",
       "  <tbody>\n",
       "    <tr>\n",
       "      <th>0</th>\n",
       "      <td>1.0</td>\n",
       "      <td>1986.0</td>\n",
       "      <td>1.0</td>\n",
       "      <td>2.0</td>\n",
       "      <td>290.0</td>\n",
       "      <td>111.0</td>\n",
       "      <td>2.0</td>\n",
       "      <td>의회 의원?고위 공무원 및 공공단체 임원</td>\n",
       "      <td>34.0</td>\n",
       "    </tr>\n",
       "    <tr>\n",
       "      <th>1</th>\n",
       "      <td>1.0</td>\n",
       "      <td>1982.0</td>\n",
       "      <td>1.0</td>\n",
       "      <td>2.0</td>\n",
       "      <td>608.0</td>\n",
       "      <td>111.0</td>\n",
       "      <td>2.0</td>\n",
       "      <td>의회 의원?고위 공무원 및 공공단체 임원</td>\n",
       "      <td>38.0</td>\n",
       "    </tr>\n",
       "    <tr>\n",
       "      <th>2</th>\n",
       "      <td>1.0</td>\n",
       "      <td>1960.0</td>\n",
       "      <td>1.0</td>\n",
       "      <td>2.0</td>\n",
       "      <td>314.0</td>\n",
       "      <td>111.0</td>\n",
       "      <td>7.0</td>\n",
       "      <td>의회 의원?고위 공무원 및 공공단체 임원</td>\n",
       "      <td>60.0</td>\n",
       "    </tr>\n",
       "    <tr>\n",
       "      <th>3</th>\n",
       "      <td>2.0</td>\n",
       "      <td>1961.0</td>\n",
       "      <td>1.0</td>\n",
       "      <td>2.0</td>\n",
       "      <td>NaN</td>\n",
       "      <td>111.0</td>\n",
       "      <td>7.0</td>\n",
       "      <td>의회 의원?고위 공무원 및 공공단체 임원</td>\n",
       "      <td>59.0</td>\n",
       "    </tr>\n",
       "    <tr>\n",
       "      <th>4</th>\n",
       "      <td>1.0</td>\n",
       "      <td>1960.0</td>\n",
       "      <td>1.0</td>\n",
       "      <td>1.0</td>\n",
       "      <td>1110.0</td>\n",
       "      <td>111.0</td>\n",
       "      <td>1.0</td>\n",
       "      <td>의회 의원?고위 공무원 및 공공단체 임원</td>\n",
       "      <td>60.0</td>\n",
       "    </tr>\n",
       "    <tr>\n",
       "      <th>...</th>\n",
       "      <td>...</td>\n",
       "      <td>...</td>\n",
       "      <td>...</td>\n",
       "      <td>...</td>\n",
       "      <td>...</td>\n",
       "      <td>...</td>\n",
       "      <td>...</td>\n",
       "      <td>...</td>\n",
       "      <td>...</td>\n",
       "    </tr>\n",
       "    <tr>\n",
       "      <th>6879</th>\n",
       "      <td>1.0</td>\n",
       "      <td>1971.0</td>\n",
       "      <td>1.0</td>\n",
       "      <td>2.0</td>\n",
       "      <td>604.0</td>\n",
       "      <td>1002.0</td>\n",
       "      <td>3.0</td>\n",
       "      <td>부사관</td>\n",
       "      <td>49.0</td>\n",
       "    </tr>\n",
       "    <tr>\n",
       "      <th>6880</th>\n",
       "      <td>1.0</td>\n",
       "      <td>1986.0</td>\n",
       "      <td>1.0</td>\n",
       "      <td>1.0</td>\n",
       "      <td>477.0</td>\n",
       "      <td>1002.0</td>\n",
       "      <td>6.0</td>\n",
       "      <td>부사관</td>\n",
       "      <td>34.0</td>\n",
       "    </tr>\n",
       "    <tr>\n",
       "      <th>6881</th>\n",
       "      <td>1.0</td>\n",
       "      <td>1982.0</td>\n",
       "      <td>1.0</td>\n",
       "      <td>1.0</td>\n",
       "      <td>479.0</td>\n",
       "      <td>1002.0</td>\n",
       "      <td>6.0</td>\n",
       "      <td>부사관</td>\n",
       "      <td>38.0</td>\n",
       "    </tr>\n",
       "    <tr>\n",
       "      <th>6882</th>\n",
       "      <td>1.0</td>\n",
       "      <td>1993.0</td>\n",
       "      <td>3.0</td>\n",
       "      <td>2.0</td>\n",
       "      <td>308.0</td>\n",
       "      <td>1009.0</td>\n",
       "      <td>2.0</td>\n",
       "      <td>기타 군인</td>\n",
       "      <td>27.0</td>\n",
       "    </tr>\n",
       "    <tr>\n",
       "      <th>6883</th>\n",
       "      <td>1.0</td>\n",
       "      <td>1972.0</td>\n",
       "      <td>1.0</td>\n",
       "      <td>2.0</td>\n",
       "      <td>625.0</td>\n",
       "      <td>1009.0</td>\n",
       "      <td>7.0</td>\n",
       "      <td>기타 군인</td>\n",
       "      <td>48.0</td>\n",
       "    </tr>\n",
       "  </tbody>\n",
       "</table>\n",
       "<p>6884 rows × 9 columns</p>\n",
       "</div>"
      ],
      "text/plain": [
       "      gender   birth  marriage_type  religion  income  code_job  code_region  \\\n",
       "0        1.0  1986.0            1.0       2.0   290.0     111.0          2.0   \n",
       "1        1.0  1982.0            1.0       2.0   608.0     111.0          2.0   \n",
       "2        1.0  1960.0            1.0       2.0   314.0     111.0          7.0   \n",
       "3        2.0  1961.0            1.0       2.0     NaN     111.0          7.0   \n",
       "4        1.0  1960.0            1.0       1.0  1110.0     111.0          1.0   \n",
       "...      ...     ...            ...       ...     ...       ...          ...   \n",
       "6879     1.0  1971.0            1.0       2.0   604.0    1002.0          3.0   \n",
       "6880     1.0  1986.0            1.0       1.0   477.0    1002.0          6.0   \n",
       "6881     1.0  1982.0            1.0       1.0   479.0    1002.0          6.0   \n",
       "6882     1.0  1993.0            3.0       2.0   308.0    1009.0          2.0   \n",
       "6883     1.0  1972.0            1.0       2.0   625.0    1009.0          7.0   \n",
       "\n",
       "                         job   Age  \n",
       "0     의회 의원?고위 공무원 및 공공단체 임원  34.0  \n",
       "1     의회 의원?고위 공무원 및 공공단체 임원  38.0  \n",
       "2     의회 의원?고위 공무원 및 공공단체 임원  60.0  \n",
       "3     의회 의원?고위 공무원 및 공공단체 임원  59.0  \n",
       "4     의회 의원?고위 공무원 및 공공단체 임원  60.0  \n",
       "...                      ...   ...  \n",
       "6879                     부사관  49.0  \n",
       "6880                     부사관  34.0  \n",
       "6881                     부사관  38.0  \n",
       "6882                   기타 군인  27.0  \n",
       "6883                   기타 군인  48.0  \n",
       "\n",
       "[6884 rows x 9 columns]"
      ]
     },
     "execution_count": 161,
     "metadata": {},
     "output_type": "execute_result"
    }
   ],
   "source": [
    "df"
   ]
  },
  {
   "cell_type": "code",
   "execution_count": 162,
   "id": "b0e40b8e-e3c0-4e68-a4a6-1c93ce46b198",
   "metadata": {},
   "outputs": [
    {
     "data": {
      "text/plain": [
       "religion\n",
       "2.0    3745\n",
       "1.0    3133\n",
       "Name: count, dtype: int64"
      ]
     },
     "execution_count": 162,
     "metadata": {},
     "output_type": "execute_result"
    }
   ],
   "source": [
    "df['religion'].value_counts()  # 2 무교 1 유교  >> 범주형 "
   ]
  },
  {
   "cell_type": "code",
   "execution_count": 163,
   "id": "417d2050-9588-4695-9985-e5fd427e88f8",
   "metadata": {},
   "outputs": [
    {
     "data": {
      "text/plain": [
       "job\n",
       "작물 재배 종사자           962\n",
       "청소원 및 환경미화원         391\n",
       "매장 판매 종사자           354\n",
       "경영 관련 사무원           275\n",
       "자동차 운전원             236\n",
       "                   ... \n",
       "항공기?선박 기관사 및 관제사      1\n",
       "혼례 및 장례 종사자           1\n",
       "행정 전문가                1\n",
       "선박 승무원 및 관련 종사자       1\n",
       "철도 및 전동차 기관사          1\n",
       "Name: count, Length: 156, dtype: int64"
      ]
     },
     "execution_count": 163,
     "metadata": {},
     "output_type": "execute_result"
    }
   ],
   "source": [
    "df['job'].value_counts() #  Length: 156, 총 직업의 수 "
   ]
  },
  {
   "cell_type": "code",
   "execution_count": 164,
   "id": "e8a8beb2-38ca-42ab-b375-829f5bd545c2",
   "metadata": {},
   "outputs": [
    {
     "data": {
      "text/plain": [
       "code_region\n",
       "2.0    1548\n",
       "7.0    1191\n",
       "3.0    1116\n",
       "1.0     978\n",
       "4.0     776\n",
       "5.0     685\n",
       "6.0     584\n",
       "Name: count, dtype: int64"
      ]
     },
     "execution_count": 164,
     "metadata": {},
     "output_type": "execute_result"
    }
   ],
   "source": [
    "df['code_region'].value_counts()"
   ]
  },
  {
   "cell_type": "markdown",
   "id": "1c4c03c6-33eb-4311-89cb-c6ef4ed86d99",
   "metadata": {},
   "source": [
    "         특이사항\n",
    "gender : x\n",
    "birth : age로 변환. 사용할 일 x\n",
    "marriage_type : 기혼vs 미혼( + 기타)\n",
    "religion : x\n",
    "income : 누락값 존재, 이상치 존재 , 0 이라는 수치 처리방법 필요 \n",
    "code_job : job으로 바꿈, 사용할 일x\n",
    "code_region\t: 수도권 vs 비수도권\n",
    "job : 152 직업, 누락값, 자체만으로는 사용하기가 어렵다\n",
    "Age : 누락값 x ,이상치 x = x "
   ]
  },
  {
   "cell_type": "markdown",
   "id": "2cbadc39-dad4-4321-bc85-0bad62ceea3d",
   "metadata": {},
   "source": [
    "성별에 따른 임금 차이가 날까?(남년임금이 다를까?)\n",
    "\n",
    "나이에 따라 임금 차이가 날까? (임금이 가장 높은 나이가 언제일까?)\n",
    "\n",
    "나이에 따라 임금차이가 날까? (어느 나이대가 임금이 높을까?)\n",
    "\n",
    "성별과연령대에 따라 임금 차이가 날까?(남녀 임금의 차이가 연령대에 따라 차이가 있을까?)\n",
    "\n",
    "지역에 따라 임금 차이가 날까? (수도권이 비수도권보다 임금이 높을까?)\n",
    "\n",
    "남여에 따라 선호 직업에 차이가 날까?(남녀별로 어떤 직업이 선호도가 높을까?)\n",
    "\n",
    "종교 유무에 따른 이혼율의 차이가 날까?(종교가 있으면 가정사에 문제가 있을까?)\n",
    "\n",
    "지역에 따라 나이가 차이가 날까? ()"
   ]
  },
  {
   "cell_type": "code",
   "execution_count": 188,
   "id": "e3e4030b-e4f1-4af6-8e70-df3ad16f59d3",
   "metadata": {},
   "outputs": [
    {
     "data": {
      "text/plain": [
       "0        75.0\n",
       "1        72.0\n",
       "2        78.0\n",
       "3        58.0\n",
       "4        57.0\n",
       "         ... \n",
       "14413    53.0\n",
       "14414    28.0\n",
       "14415    25.0\n",
       "14416    22.0\n",
       "14417    19.0\n",
       "Name: Age, Length: 14418, dtype: float64"
      ]
     },
     "execution_count": 188,
     "metadata": {},
     "output_type": "execute_result"
    }
   ],
   "source": [
    "df['Age']"
   ]
  },
  {
   "cell_type": "code",
   "execution_count": null,
   "id": "bd0fd8cc-31db-428d-abe5-84d51e4c7d1f",
   "metadata": {},
   "outputs": [],
   "source": [
    "# 성별에 따른 임금 차이가 날까?(남년임금이 다를까?)\n",
    "# 독립변수 : 성별(범주), 종속변수: 임금(수치)\n",
    "# income : 누락값 존재, 이상치 존재 , 0 이라는 수치 처리방법 필요 "
   ]
  },
  {
   "cell_type": "code",
   "execution_count": 190,
   "id": "59ca1d3d-14c9-4600-8e12-596fdbd4dd07",
   "metadata": {},
   "outputs": [
    {
     "data": {
      "text/plain": [
       "<Axes: xlabel='gender', ylabel='income'>"
      ]
     },
     "execution_count": 190,
     "metadata": {},
     "output_type": "execute_result"
    },
    {
     "data": {
      "image/png": "[encoded data removed]",
      "text/plain": [
       "<Figure size 640x480 with 1 Axes>"
      ]
     },
     "metadata": {},
     "output_type": "display_data"
    }
   ],
   "source": [
    "sns.barplot(data = df, x = 'gender', y = 'income')  # 1이 남자 \n",
    "\n",
    "# == 임금차이가 나고있다는 것을 확인 할 수 있다. "
   ]
  },
  {
   "cell_type": "code",
   "execution_count": 205,
   "id": "ae253d0d-4b20-4685-98ba-a4d4c57e0feb",
   "metadata": {},
   "outputs": [],
   "source": [
    "# 이상치를 제거\n",
    "\n",
    "Q1 = df['income'].quantile(q=0.25)\n",
    "Q3 = df['income'].quantile(q=0.75)\n",
    "IQR = Q3 - Q1\n",
    "high = Q3 + 1.5 * IQR\n",
    "df2 = df[df['income'] < high]"
   ]
  },
  {
   "cell_type": "code",
   "execution_count": 209,
   "id": "1c6f1c16-3328-42ee-98c6-48b1e2e6fc91",
   "metadata": {},
   "outputs": [
    {
     "data": {
      "text/plain": [
       "639.375"
      ]
     },
     "execution_count": 209,
     "metadata": {},
     "output_type": "execute_result"
    }
   ],
   "source": [
    "high = Q3 + 1.5 * IQR\n",
    "high"
   ]
  },
  {
   "cell_type": "code",
   "execution_count": 207,
   "id": "01ebc023-c381-47eb-b633-cb2117b080ae",
   "metadata": {},
   "outputs": [
    {
     "data": {
      "text/plain": [
       "<Axes: xlabel='gender', ylabel='income'>"
      ]
     },
     "execution_count": 207,
     "metadata": {},
     "output_type": "execute_result"
    },
    {
     "data": {
      "image/png": "[encoded data removed]",
      "text/plain": [
       "<Figure size 640x480 with 1 Axes>"
      ]
     },
     "metadata": {},
     "output_type": "display_data"
    }
   ],
   "source": [
    "sns.barplot(data = df2, x = 'gender', y = 'income')"
   ]
  },
  {
   "cell_type": "code",
   "execution_count": 216,
   "id": "730e5186-6bc8-44a2-8ef3-f3a126ecfa17",
   "metadata": {},
   "outputs": [
    {
     "data": {
      "text/html": [
       "<div>\n",
       "<style scoped>\n",
       "    .dataframe tbody tr th:only-of-type {\n",
       "        vertical-align: middle;\n",
       "    }\n",
       "\n",
       "    .dataframe tbody tr th {\n",
       "        vertical-align: top;\n",
       "    }\n",
       "\n",
       "    .dataframe thead th {\n",
       "        text-align: right;\n",
       "    }\n",
       "</style>\n",
       "<table border=\"1\" class=\"dataframe\">\n",
       "  <thead>\n",
       "    <tr style=\"text-align: right;\">\n",
       "      <th></th>\n",
       "      <th>gender</th>\n",
       "      <th>birth</th>\n",
       "      <th>marriage_type</th>\n",
       "      <th>religion</th>\n",
       "      <th>income</th>\n",
       "      <th>code_job</th>\n",
       "      <th>code_region</th>\n",
       "      <th>job</th>\n",
       "      <th>Age</th>\n",
       "    </tr>\n",
       "  </thead>\n",
       "  <tbody>\n",
       "    <tr>\n",
       "      <th>2</th>\n",
       "      <td>1.0</td>\n",
       "      <td>1942.0</td>\n",
       "      <td>3.0</td>\n",
       "      <td>1.0</td>\n",
       "      <td>107.0</td>\n",
       "      <td>762.0</td>\n",
       "      <td>1.0</td>\n",
       "      <td>전기공</td>\n",
       "      <td>78.0</td>\n",
       "    </tr>\n",
       "    <tr>\n",
       "      <th>3</th>\n",
       "      <td>1.0</td>\n",
       "      <td>1962.0</td>\n",
       "      <td>1.0</td>\n",
       "      <td>1.0</td>\n",
       "      <td>192.0</td>\n",
       "      <td>855.0</td>\n",
       "      <td>1.0</td>\n",
       "      <td>금속기계 부품 조립원</td>\n",
       "      <td>58.0</td>\n",
       "    </tr>\n",
       "    <tr>\n",
       "      <th>7</th>\n",
       "      <td>2.0</td>\n",
       "      <td>1934.0</td>\n",
       "      <td>1.0</td>\n",
       "      <td>1.0</td>\n",
       "      <td>27.0</td>\n",
       "      <td>941.0</td>\n",
       "      <td>1.0</td>\n",
       "      <td>청소원 및 환경미화원</td>\n",
       "      <td>86.0</td>\n",
       "    </tr>\n",
       "    <tr>\n",
       "      <th>8</th>\n",
       "      <td>2.0</td>\n",
       "      <td>1940.0</td>\n",
       "      <td>2.0</td>\n",
       "      <td>1.0</td>\n",
       "      <td>27.0</td>\n",
       "      <td>999.0</td>\n",
       "      <td>2.0</td>\n",
       "      <td>기타 서비스 관련 단순 종사자</td>\n",
       "      <td>80.0</td>\n",
       "    </tr>\n",
       "    <tr>\n",
       "      <th>14</th>\n",
       "      <td>1.0</td>\n",
       "      <td>1978.0</td>\n",
       "      <td>1.0</td>\n",
       "      <td>2.0</td>\n",
       "      <td>338.0</td>\n",
       "      <td>312.0</td>\n",
       "      <td>1.0</td>\n",
       "      <td>경영 관련 사무원</td>\n",
       "      <td>42.0</td>\n",
       "    </tr>\n",
       "    <tr>\n",
       "      <th>...</th>\n",
       "      <td>...</td>\n",
       "      <td>...</td>\n",
       "      <td>...</td>\n",
       "      <td>...</td>\n",
       "      <td>...</td>\n",
       "      <td>...</td>\n",
       "      <td>...</td>\n",
       "      <td>...</td>\n",
       "      <td>...</td>\n",
       "    </tr>\n",
       "    <tr>\n",
       "      <th>14401</th>\n",
       "      <td>1.0</td>\n",
       "      <td>1966.0</td>\n",
       "      <td>1.0</td>\n",
       "      <td>1.0</td>\n",
       "      <td>280.0</td>\n",
       "      <td>874.0</td>\n",
       "      <td>6.0</td>\n",
       "      <td>물품 이동 장비 조작원</td>\n",
       "      <td>54.0</td>\n",
       "    </tr>\n",
       "    <tr>\n",
       "      <th>14402</th>\n",
       "      <td>2.0</td>\n",
       "      <td>1962.0</td>\n",
       "      <td>1.0</td>\n",
       "      <td>1.0</td>\n",
       "      <td>209.0</td>\n",
       "      <td>930.0</td>\n",
       "      <td>6.0</td>\n",
       "      <td>제조 관련 단순 종사자</td>\n",
       "      <td>58.0</td>\n",
       "    </tr>\n",
       "    <tr>\n",
       "      <th>14405</th>\n",
       "      <td>2.0</td>\n",
       "      <td>1947.0</td>\n",
       "      <td>2.0</td>\n",
       "      <td>2.0</td>\n",
       "      <td>27.0</td>\n",
       "      <td>941.0</td>\n",
       "      <td>6.0</td>\n",
       "      <td>청소원 및 환경미화원</td>\n",
       "      <td>73.0</td>\n",
       "    </tr>\n",
       "    <tr>\n",
       "      <th>14410</th>\n",
       "      <td>1.0</td>\n",
       "      <td>1956.0</td>\n",
       "      <td>1.0</td>\n",
       "      <td>1.0</td>\n",
       "      <td>200.0</td>\n",
       "      <td>854.0</td>\n",
       "      <td>6.0</td>\n",
       "      <td>운송차량 및 기계 관련 조립원</td>\n",
       "      <td>64.0</td>\n",
       "    </tr>\n",
       "    <tr>\n",
       "      <th>14416</th>\n",
       "      <td>2.0</td>\n",
       "      <td>1998.0</td>\n",
       "      <td>5.0</td>\n",
       "      <td>1.0</td>\n",
       "      <td>200.0</td>\n",
       "      <td>246.0</td>\n",
       "      <td>5.0</td>\n",
       "      <td>보건 의료 관련 종사자</td>\n",
       "      <td>22.0</td>\n",
       "    </tr>\n",
       "  </tbody>\n",
       "</table>\n",
       "<p>4273 rows × 9 columns</p>\n",
       "</div>"
      ],
      "text/plain": [
       "       gender   birth  marriage_type  religion  income  code_job  code_region  \\\n",
       "2         1.0  1942.0            3.0       1.0   107.0     762.0          1.0   \n",
       "3         1.0  1962.0            1.0       1.0   192.0     855.0          1.0   \n",
       "7         2.0  1934.0            1.0       1.0    27.0     941.0          1.0   \n",
       "8         2.0  1940.0            2.0       1.0    27.0     999.0          2.0   \n",
       "14        1.0  1978.0            1.0       2.0   338.0     312.0          1.0   \n",
       "...       ...     ...            ...       ...     ...       ...          ...   \n",
       "14401     1.0  1966.0            1.0       1.0   280.0     874.0          6.0   \n",
       "14402     2.0  1962.0            1.0       1.0   209.0     930.0          6.0   \n",
       "14405     2.0  1947.0            2.0       2.0    27.0     941.0          6.0   \n",
       "14410     1.0  1956.0            1.0       1.0   200.0     854.0          6.0   \n",
       "14416     2.0  1998.0            5.0       1.0   200.0     246.0          5.0   \n",
       "\n",
       "                    job   Age  \n",
       "2                   전기공  78.0  \n",
       "3           금속기계 부품 조립원  58.0  \n",
       "7           청소원 및 환경미화원  86.0  \n",
       "8      기타 서비스 관련 단순 종사자  80.0  \n",
       "14            경영 관련 사무원  42.0  \n",
       "...                 ...   ...  \n",
       "14401      물품 이동 장비 조작원  54.0  \n",
       "14402      제조 관련 단순 종사자  58.0  \n",
       "14405       청소원 및 환경미화원  73.0  \n",
       "14410  운송차량 및 기계 관련 조립원  64.0  \n",
       "14416      보건 의료 관련 종사자  22.0  \n",
       "\n",
       "[4273 rows x 9 columns]"
      ]
     },
     "execution_count": 216,
     "metadata": {},
     "output_type": "execute_result"
    }
   ],
   "source": [
    "df2"
   ]
  },
  {
   "cell_type": "code",
   "execution_count": 217,
   "id": "b864a3aa-0131-4892-a359-4428e2a5b862",
   "metadata": {},
   "outputs": [
    {
     "data": {
      "text/plain": [
       "<Axes: xlabel='Age', ylabel='income'>"
      ]
     },
     "execution_count": 217,
     "metadata": {},
     "output_type": "execute_result"
    },
    {
     "data": {
      "image/png": "[encoded data removed]",
      "text/plain": [
       "<Figure size 640x480 with 1 Axes>"
      ]
     },
     "metadata": {},
     "output_type": "display_data"
    }
   ],
   "source": [
    "# 나이에 따라 임금 차이가 날까? (임금이 가장 높은 나이가 언제일까?)\n",
    "# 독립변수 : 나이 (수치), 종속변수 : 임금(수치)\n",
    "#  나이 :수입이 있는 나이 구간을 대상으로 해야 공평하지 않나?\n",
    "\n",
    "sns.scatterplot(data = df, x ='Age', y = 'income')"
   ]
  },
  {
   "cell_type": "code",
   "execution_count": 219,
   "id": "5ced69b6-ce9c-4d6f-90a9-0c66d076a3ff",
   "metadata": {
    "scrolled": true
   },
   "outputs": [
    {
     "data": {
      "text/plain": [
       "PearsonRResult(statistic=-0.21951593061416613, pvalue=1.3433206200931525e-50)"
      ]
     },
     "execution_count": 219,
     "metadata": {},
     "output_type": "execute_result"
    }
   ],
   "source": [
    "df2 = df.dropna(subset = 'income', axis= 0 )\n",
    "stats.pearsonr(df2['Age'],df2['income'])\n",
    "\n",
    "# PearsonRResult(statistic=-0.21951593061416613, << 연관성이 없다. -이므로 음의 상관관계 \n",
    "#                pvalue=1.3433206200931525e-50) << 매우작음 이 관계가 통계적으로 유의미 함을 나타냄 \n",
    "# == 통계적으로 유의한 수준에서 두 변수 간에 음의 선형 관계가 있는것으로 판단할 수 있음 "
   ]
  },
  {
   "cell_type": "code",
   "execution_count": 220,
   "id": "d0e4d9b5-db77-45af-bf21-a59a3d9a440f",
   "metadata": {},
   "outputs": [],
   "source": [
    "df3 = df2[(df2['Age'] > 30) & (df2['Age'] < 60)]"
   ]
  },
  {
   "cell_type": "code",
   "execution_count": 223,
   "id": "e379e5bc-2937-40d2-b249-75e1c5dfc49e",
   "metadata": {
    "scrolled": true
   },
   "outputs": [
    {
     "data": {
      "text/plain": [
       "(2848, 9)"
      ]
     },
     "execution_count": 223,
     "metadata": {},
     "output_type": "execute_result"
    }
   ],
   "source": [
    "df3.shape"
   ]
  },
  {
   "cell_type": "code",
   "execution_count": 224,
   "id": "b0f0e48e-1d65-495d-84b4-371cd9854dca",
   "metadata": {},
   "outputs": [
    {
     "data": {
      "text/plain": [
       "<Axes: xlabel='Age', ylabel='income'>"
      ]
     },
     "execution_count": 224,
     "metadata": {},
     "output_type": "execute_result"
    },
    {
     "data": {
      "image/png": "[encoded data removed]",
      "text/plain": [
       "<Figure size 640x480 with 1 Axes>"
      ]
     },
     "metadata": {},
     "output_type": "display_data"
    }
   ],
   "source": [
    "sns.scatterplot(data = df3, x ='Age', y = 'income')"
   ]
  },
  {
   "cell_type": "code",
   "execution_count": 213,
   "id": "269863af-d16f-482d-8118-0cd69a40e00e",
   "metadata": {},
   "outputs": [],
   "source": [
    "# 나이에 따라 임금차이가 날까? (어느 나이대가 임금이 높을까?)\n",
    "# 독립변수 : 연령대 (수치), 종속변수 : 임금(수치)"
   ]
  },
  {
   "cell_type": "code",
   "execution_count": 251,
   "id": "bff730ef-bc75-4d88-8942-efa1e1152a3d",
   "metadata": {},
   "outputs": [],
   "source": [
    "def convert_age(age):\n",
    "    if age < 20:\n",
    "        return '청소년'\n",
    "    elif age < 30:\n",
    "         return '20대'\n",
    "    elif age < 40:\n",
    "         return '30대'\n",
    "    elif age < 50:\n",
    "         return '40대'\n",
    "    elif age < 60:\n",
    "         return '50대'\n",
    "    else:\n",
    "        return'60대 이상'"
   ]
  },
  {
   "cell_type": "code",
   "execution_count": 252,
   "id": "986fe374-d412-4df0-b465-7077f1666b99",
   "metadata": {},
   "outputs": [],
   "source": [
    "# 누락값을 제거한 df2에 적용 \n",
    "df2['age_group'] = df2['Age'].apply(convert_age) "
   ]
  },
  {
   "cell_type": "code",
   "execution_count": 253,
   "id": "b186e4d5-d9eb-4a24-b670-2e9fe4efad43",
   "metadata": {},
   "outputs": [
    {
     "data": {
      "text/html": [
       "<div>\n",
       "<style scoped>\n",
       "    .dataframe tbody tr th:only-of-type {\n",
       "        vertical-align: middle;\n",
       "    }\n",
       "\n",
       "    .dataframe tbody tr th {\n",
       "        vertical-align: top;\n",
       "    }\n",
       "\n",
       "    .dataframe thead th {\n",
       "        text-align: right;\n",
       "    }\n",
       "</style>\n",
       "<table border=\"1\" class=\"dataframe\">\n",
       "  <thead>\n",
       "    <tr style=\"text-align: right;\">\n",
       "      <th></th>\n",
       "      <th>gender</th>\n",
       "      <th>birth</th>\n",
       "      <th>marriage_type</th>\n",
       "      <th>religion</th>\n",
       "      <th>income</th>\n",
       "      <th>code_job</th>\n",
       "      <th>code_region</th>\n",
       "      <th>job</th>\n",
       "      <th>Age</th>\n",
       "      <th>age_group</th>\n",
       "      <th>age_group2</th>\n",
       "    </tr>\n",
       "  </thead>\n",
       "  <tbody>\n",
       "    <tr>\n",
       "      <th>2</th>\n",
       "      <td>1.0</td>\n",
       "      <td>1942.0</td>\n",
       "      <td>3.0</td>\n",
       "      <td>1.0</td>\n",
       "      <td>107.0</td>\n",
       "      <td>762.0</td>\n",
       "      <td>1.0</td>\n",
       "      <td>전기공</td>\n",
       "      <td>78.0</td>\n",
       "      <td>60대 이상</td>\n",
       "      <td>기타</td>\n",
       "    </tr>\n",
       "    <tr>\n",
       "      <th>3</th>\n",
       "      <td>1.0</td>\n",
       "      <td>1962.0</td>\n",
       "      <td>1.0</td>\n",
       "      <td>1.0</td>\n",
       "      <td>192.0</td>\n",
       "      <td>855.0</td>\n",
       "      <td>1.0</td>\n",
       "      <td>금속기계 부품 조립원</td>\n",
       "      <td>58.0</td>\n",
       "      <td>50대</td>\n",
       "      <td>리더</td>\n",
       "    </tr>\n",
       "    <tr>\n",
       "      <th>7</th>\n",
       "      <td>2.0</td>\n",
       "      <td>1934.0</td>\n",
       "      <td>1.0</td>\n",
       "      <td>1.0</td>\n",
       "      <td>27.0</td>\n",
       "      <td>941.0</td>\n",
       "      <td>1.0</td>\n",
       "      <td>청소원 및 환경미화원</td>\n",
       "      <td>86.0</td>\n",
       "      <td>60대 이상</td>\n",
       "      <td>기타</td>\n",
       "    </tr>\n",
       "    <tr>\n",
       "      <th>8</th>\n",
       "      <td>2.0</td>\n",
       "      <td>1940.0</td>\n",
       "      <td>2.0</td>\n",
       "      <td>1.0</td>\n",
       "      <td>27.0</td>\n",
       "      <td>999.0</td>\n",
       "      <td>2.0</td>\n",
       "      <td>기타 서비스 관련 단순 종사자</td>\n",
       "      <td>80.0</td>\n",
       "      <td>60대 이상</td>\n",
       "      <td>기타</td>\n",
       "    </tr>\n",
       "    <tr>\n",
       "      <th>14</th>\n",
       "      <td>1.0</td>\n",
       "      <td>1978.0</td>\n",
       "      <td>1.0</td>\n",
       "      <td>2.0</td>\n",
       "      <td>338.0</td>\n",
       "      <td>312.0</td>\n",
       "      <td>1.0</td>\n",
       "      <td>경영 관련 사무원</td>\n",
       "      <td>42.0</td>\n",
       "      <td>40대</td>\n",
       "      <td>시니어</td>\n",
       "    </tr>\n",
       "    <tr>\n",
       "      <th>...</th>\n",
       "      <td>...</td>\n",
       "      <td>...</td>\n",
       "      <td>...</td>\n",
       "      <td>...</td>\n",
       "      <td>...</td>\n",
       "      <td>...</td>\n",
       "      <td>...</td>\n",
       "      <td>...</td>\n",
       "      <td>...</td>\n",
       "      <td>...</td>\n",
       "      <td>...</td>\n",
       "    </tr>\n",
       "    <tr>\n",
       "      <th>14401</th>\n",
       "      <td>1.0</td>\n",
       "      <td>1966.0</td>\n",
       "      <td>1.0</td>\n",
       "      <td>1.0</td>\n",
       "      <td>280.0</td>\n",
       "      <td>874.0</td>\n",
       "      <td>6.0</td>\n",
       "      <td>물품 이동 장비 조작원</td>\n",
       "      <td>54.0</td>\n",
       "      <td>50대</td>\n",
       "      <td>리더</td>\n",
       "    </tr>\n",
       "    <tr>\n",
       "      <th>14402</th>\n",
       "      <td>2.0</td>\n",
       "      <td>1962.0</td>\n",
       "      <td>1.0</td>\n",
       "      <td>1.0</td>\n",
       "      <td>209.0</td>\n",
       "      <td>930.0</td>\n",
       "      <td>6.0</td>\n",
       "      <td>제조 관련 단순 종사자</td>\n",
       "      <td>58.0</td>\n",
       "      <td>50대</td>\n",
       "      <td>리더</td>\n",
       "    </tr>\n",
       "    <tr>\n",
       "      <th>14405</th>\n",
       "      <td>2.0</td>\n",
       "      <td>1947.0</td>\n",
       "      <td>2.0</td>\n",
       "      <td>2.0</td>\n",
       "      <td>27.0</td>\n",
       "      <td>941.0</td>\n",
       "      <td>6.0</td>\n",
       "      <td>청소원 및 환경미화원</td>\n",
       "      <td>73.0</td>\n",
       "      <td>60대 이상</td>\n",
       "      <td>기타</td>\n",
       "    </tr>\n",
       "    <tr>\n",
       "      <th>14410</th>\n",
       "      <td>1.0</td>\n",
       "      <td>1956.0</td>\n",
       "      <td>1.0</td>\n",
       "      <td>1.0</td>\n",
       "      <td>200.0</td>\n",
       "      <td>854.0</td>\n",
       "      <td>6.0</td>\n",
       "      <td>운송차량 및 기계 관련 조립원</td>\n",
       "      <td>64.0</td>\n",
       "      <td>60대 이상</td>\n",
       "      <td>기타</td>\n",
       "    </tr>\n",
       "    <tr>\n",
       "      <th>14416</th>\n",
       "      <td>2.0</td>\n",
       "      <td>1998.0</td>\n",
       "      <td>5.0</td>\n",
       "      <td>1.0</td>\n",
       "      <td>200.0</td>\n",
       "      <td>246.0</td>\n",
       "      <td>5.0</td>\n",
       "      <td>보건 의료 관련 종사자</td>\n",
       "      <td>22.0</td>\n",
       "      <td>20대</td>\n",
       "      <td>학생</td>\n",
       "    </tr>\n",
       "  </tbody>\n",
       "</table>\n",
       "<p>4534 rows × 11 columns</p>\n",
       "</div>"
      ],
      "text/plain": [
       "       gender   birth  marriage_type  religion  income  code_job  code_region  \\\n",
       "2         1.0  1942.0            3.0       1.0   107.0     762.0          1.0   \n",
       "3         1.0  1962.0            1.0       1.0   192.0     855.0          1.0   \n",
       "7         2.0  1934.0            1.0       1.0    27.0     941.0          1.0   \n",
       "8         2.0  1940.0            2.0       1.0    27.0     999.0          2.0   \n",
       "14        1.0  1978.0            1.0       2.0   338.0     312.0          1.0   \n",
       "...       ...     ...            ...       ...     ...       ...          ...   \n",
       "14401     1.0  1966.0            1.0       1.0   280.0     874.0          6.0   \n",
       "14402     2.0  1962.0            1.0       1.0   209.0     930.0          6.0   \n",
       "14405     2.0  1947.0            2.0       2.0    27.0     941.0          6.0   \n",
       "14410     1.0  1956.0            1.0       1.0   200.0     854.0          6.0   \n",
       "14416     2.0  1998.0            5.0       1.0   200.0     246.0          5.0   \n",
       "\n",
       "                    job   Age age_group age_group2  \n",
       "2                   전기공  78.0    60대 이상         기타  \n",
       "3           금속기계 부품 조립원  58.0       50대         리더  \n",
       "7           청소원 및 환경미화원  86.0    60대 이상         기타  \n",
       "8      기타 서비스 관련 단순 종사자  80.0    60대 이상         기타  \n",
       "14            경영 관련 사무원  42.0       40대        시니어  \n",
       "...                 ...   ...       ...        ...  \n",
       "14401      물품 이동 장비 조작원  54.0       50대         리더  \n",
       "14402      제조 관련 단순 종사자  58.0       50대         리더  \n",
       "14405       청소원 및 환경미화원  73.0    60대 이상         기타  \n",
       "14410  운송차량 및 기계 관련 조립원  64.0    60대 이상         기타  \n",
       "14416      보건 의료 관련 종사자  22.0       20대         학생  \n",
       "\n",
       "[4534 rows x 11 columns]"
      ]
     },
     "execution_count": 253,
     "metadata": {},
     "output_type": "execute_result"
    }
   ],
   "source": [
    "df2"
   ]
  },
  {
   "cell_type": "code",
   "execution_count": 254,
   "id": "81b27bea-f8fa-49fc-b417-e34394ddf127",
   "metadata": {},
   "outputs": [
    {
     "data": {
      "text/plain": [
       "age_group\n",
       "40대       1164\n",
       "60대 이상    1093\n",
       "50대        955\n",
       "30대        808\n",
       "20대        513\n",
       "청소년          1\n",
       "Name: count, dtype: int64"
      ]
     },
     "execution_count": 254,
     "metadata": {},
     "output_type": "execute_result"
    }
   ],
   "source": [
    "df2['age_group'].value_counts() # 연령대가 4개의 범주로 "
   ]
  },
  {
   "cell_type": "code",
   "execution_count": 255,
   "id": "b5fe8408-49d9-4a31-871a-3e05721c049a",
   "metadata": {},
   "outputs": [
    {
     "data": {
      "text/plain": [
       "<Axes: xlabel='age_group', ylabel='income'>"
      ]
     },
     "execution_count": 255,
     "metadata": {},
     "output_type": "execute_result"
    },
    {
     "data": {
      "image/png": "[encoded data removed]",
      "text/plain": [
       "<Figure size 640x480 with 1 Axes>"
      ]
     },
     "metadata": {},
     "output_type": "display_data"
    }
   ],
   "source": [
    "sns.barplot(data = df2, x = 'age_group', y = 'income')"
   ]
  },
  {
   "cell_type": "code",
   "execution_count": 256,
   "id": "5d1b32f3-2b22-471d-a5f0-9600dce0f2d2",
   "metadata": {},
   "outputs": [],
   "source": [
    "a40 = df2[df2['age_group']=='40대']['income']\n",
    "a50 = df2[df2['age_group']=='50대']['income']"
   ]
  },
  {
   "cell_type": "code",
   "execution_count": 257,
   "id": "3ac1c334-f6d4-4ad9-89cd-0d87c0fe4b13",
   "metadata": {},
   "outputs": [
    {
     "name": "stdout",
     "output_type": "stream",
     "text": [
      "ShapiroResult(statistic=0.9164077043533325, pvalue=7.728013735201356e-25)\n",
      "ShapiroResult(statistic=0.8526034355163574, pvalue=6.356788170873918e-29)\n"
     ]
    }
   ],
   "source": [
    "print(stats.shapiro(a40))\n",
    "print(stats.shapiro(a50))"
   ]
  },
  {
   "cell_type": "code",
   "execution_count": 258,
   "id": "9549ff44-8f01-469d-bab7-bf51eb38e18c",
   "metadata": {},
   "outputs": [
    {
     "data": {
      "text/plain": [
       "<Axes: xlabel='income', ylabel='Density'>"
      ]
     },
     "execution_count": 258,
     "metadata": {},
     "output_type": "execute_result"
    },
    {
     "data": {
      "image/png": "[encoded data removed]",
      "text/plain": [
       "<Figure size 640x480 with 1 Axes>"
      ]
     },
     "metadata": {},
     "output_type": "display_data"
    }
   ],
   "source": [
    "sns.kdeplot(a40)  # 한쪽으로 쏠려있는 모양 = 정규성 없다. "
   ]
  },
  {
   "cell_type": "code",
   "execution_count": 259,
   "id": "5b07139a-65b1-42f8-8214-7bdde4a14192",
   "metadata": {},
   "outputs": [
    {
     "data": {
      "text/plain": [
       "MannwhitneyuResult(statistic=623783.0, pvalue=1.2312781606968281e-06)"
      ]
     },
     "execution_count": 259,
     "metadata": {},
     "output_type": "execute_result"
    }
   ],
   "source": [
    "stats.mannwhitneyu(a40,a50)  #결과값 =  두 집단이 차이가 있다! \n",
    " # Mann-Whitney U 검정 통계량(statistic)이 큰 값일수록 두 표본 간에 큰 차이가 있음"
   ]
  },
  {
   "cell_type": "code",
   "execution_count": 260,
   "id": "6cbdbc8a-0bb4-4517-bffd-a1f3addf3954",
   "metadata": {},
   "outputs": [
    {
     "data": {
      "text/plain": [
       "<Axes: xlabel='age_group', ylabel='income'>"
      ]
     },
     "execution_count": 260,
     "metadata": {},
     "output_type": "execute_result"
    },
    {
     "data": {
      "image/png": "[encoded data removed]",
      "text/plain": [
       "<Figure size 640x480 with 1 Axes>"
      ]
     },
     "metadata": {},
     "output_type": "display_data"
    }
   ],
   "source": [
    "# 성별과 연령대에 따라 임금 차이가 날까?(남녀 임금의 차이가 연령대에 따라 차이가 있을까?)\n",
    "sns.barplot(data = df2, x ='age_group'  ,y = 'income' ,hue ='gender')"
   ]
  },
  {
   "cell_type": "code",
   "execution_count": 261,
   "id": "743527fc-044a-48b6-b9a7-957fd7dac4f4",
   "metadata": {},
   "outputs": [],
   "source": [
    "m20 = df2[(df2['age_group'] == '20대') & (df2['gender'] == 1) ]['income']\n",
    "f20 = df2[(df2['age_group'] == '20대') & (df2['gender'] == 2) ]['income']"
   ]
  },
  {
   "cell_type": "code",
   "execution_count": 262,
   "id": "91fd64ee-b245-4df7-8afa-fd83b152fb7f",
   "metadata": {},
   "outputs": [
    {
     "name": "stdout",
     "output_type": "stream",
     "text": [
      "ShapiroResult(statistic=0.9695075154304504, pvalue=0.00026639067800715566)\n",
      "ShapiroResult(statistic=0.9572811722755432, pvalue=5.857938845110766e-08)\n"
     ]
    }
   ],
   "source": [
    "print(stats.shapiro(m20))\n",
    "print(stats.shapiro(f20)) # 정규성 x  비모수 검정으로 맨 위트니 !"
   ]
  },
  {
   "cell_type": "code",
   "execution_count": 263,
   "id": "45cd2d37-e2d0-4f0a-a6f8-d05c2da97a13",
   "metadata": {},
   "outputs": [
    {
     "data": {
      "text/plain": [
       "MannwhitneyuResult(statistic=34950.0, pvalue=0.021252720498541065)"
      ]
     },
     "execution_count": 263,
     "metadata": {},
     "output_type": "execute_result"
    }
   ],
   "source": [
    "stats.mannwhitneyu(m20,f20) # 모든 연령대에서 남성의 임금이 여성의 임금보다 높다 :대립가설 "
   ]
  },
  {
   "cell_type": "code",
   "execution_count": 264,
   "id": "17b15256-eef4-4fe9-8a3d-149192c28f87",
   "metadata": {},
   "outputs": [
    {
     "data": {
      "text/plain": [
       "TtestResult(statistic=2.136690590348042, pvalue=0.03309745763585884, df=511.0)"
      ]
     },
     "execution_count": 264,
     "metadata": {},
     "output_type": "execute_result"
    }
   ],
   "source": [
    "stats.ttest_ind(m20,f20)"
   ]
  },
  {
   "cell_type": "code",
   "execution_count": 265,
   "id": "2716bf14-c63b-4f84-a991-5f7d737fd315",
   "metadata": {},
   "outputs": [],
   "source": [
    "def convert_age(age):\n",
    "    if age < 28:\n",
    "        return '학생'\n",
    "    elif age < 36:\n",
    "         return '주니어'\n",
    "    elif age < 46:\n",
    "         return '시니어'\n",
    "    elif age < 60:\n",
    "         return '리더'\n",
    "    else:\n",
    "        return '기타'\n",
    "\n",
    "df2['age_group2'] = df2['Age'].apply(convert_age)"
   ]
  },
  {
   "cell_type": "code",
   "execution_count": 266,
   "id": "709da011-4553-42d7-8faa-8bc0e0aec824",
   "metadata": {},
   "outputs": [
    {
     "data": {
      "text/html": [
       "<div>\n",
       "<style scoped>\n",
       "    .dataframe tbody tr th:only-of-type {\n",
       "        vertical-align: middle;\n",
       "    }\n",
       "\n",
       "    .dataframe tbody tr th {\n",
       "        vertical-align: top;\n",
       "    }\n",
       "\n",
       "    .dataframe thead th {\n",
       "        text-align: right;\n",
       "    }\n",
       "</style>\n",
       "<table border=\"1\" class=\"dataframe\">\n",
       "  <thead>\n",
       "    <tr style=\"text-align: right;\">\n",
       "      <th></th>\n",
       "      <th>gender</th>\n",
       "      <th>birth</th>\n",
       "      <th>marriage_type</th>\n",
       "      <th>religion</th>\n",
       "      <th>income</th>\n",
       "      <th>code_job</th>\n",
       "      <th>code_region</th>\n",
       "      <th>job</th>\n",
       "      <th>Age</th>\n",
       "      <th>age_group</th>\n",
       "      <th>age_group2</th>\n",
       "    </tr>\n",
       "  </thead>\n",
       "  <tbody>\n",
       "    <tr>\n",
       "      <th>2</th>\n",
       "      <td>1.0</td>\n",
       "      <td>1942.0</td>\n",
       "      <td>3.0</td>\n",
       "      <td>1.0</td>\n",
       "      <td>107.0</td>\n",
       "      <td>762.0</td>\n",
       "      <td>1.0</td>\n",
       "      <td>전기공</td>\n",
       "      <td>78.0</td>\n",
       "      <td>60대 이상</td>\n",
       "      <td>기타</td>\n",
       "    </tr>\n",
       "    <tr>\n",
       "      <th>3</th>\n",
       "      <td>1.0</td>\n",
       "      <td>1962.0</td>\n",
       "      <td>1.0</td>\n",
       "      <td>1.0</td>\n",
       "      <td>192.0</td>\n",
       "      <td>855.0</td>\n",
       "      <td>1.0</td>\n",
       "      <td>금속기계 부품 조립원</td>\n",
       "      <td>58.0</td>\n",
       "      <td>50대</td>\n",
       "      <td>리더</td>\n",
       "    </tr>\n",
       "    <tr>\n",
       "      <th>7</th>\n",
       "      <td>2.0</td>\n",
       "      <td>1934.0</td>\n",
       "      <td>1.0</td>\n",
       "      <td>1.0</td>\n",
       "      <td>27.0</td>\n",
       "      <td>941.0</td>\n",
       "      <td>1.0</td>\n",
       "      <td>청소원 및 환경미화원</td>\n",
       "      <td>86.0</td>\n",
       "      <td>60대 이상</td>\n",
       "      <td>기타</td>\n",
       "    </tr>\n",
       "    <tr>\n",
       "      <th>8</th>\n",
       "      <td>2.0</td>\n",
       "      <td>1940.0</td>\n",
       "      <td>2.0</td>\n",
       "      <td>1.0</td>\n",
       "      <td>27.0</td>\n",
       "      <td>999.0</td>\n",
       "      <td>2.0</td>\n",
       "      <td>기타 서비스 관련 단순 종사자</td>\n",
       "      <td>80.0</td>\n",
       "      <td>60대 이상</td>\n",
       "      <td>기타</td>\n",
       "    </tr>\n",
       "    <tr>\n",
       "      <th>14</th>\n",
       "      <td>1.0</td>\n",
       "      <td>1978.0</td>\n",
       "      <td>1.0</td>\n",
       "      <td>2.0</td>\n",
       "      <td>338.0</td>\n",
       "      <td>312.0</td>\n",
       "      <td>1.0</td>\n",
       "      <td>경영 관련 사무원</td>\n",
       "      <td>42.0</td>\n",
       "      <td>40대</td>\n",
       "      <td>시니어</td>\n",
       "    </tr>\n",
       "    <tr>\n",
       "      <th>...</th>\n",
       "      <td>...</td>\n",
       "      <td>...</td>\n",
       "      <td>...</td>\n",
       "      <td>...</td>\n",
       "      <td>...</td>\n",
       "      <td>...</td>\n",
       "      <td>...</td>\n",
       "      <td>...</td>\n",
       "      <td>...</td>\n",
       "      <td>...</td>\n",
       "      <td>...</td>\n",
       "    </tr>\n",
       "    <tr>\n",
       "      <th>14401</th>\n",
       "      <td>1.0</td>\n",
       "      <td>1966.0</td>\n",
       "      <td>1.0</td>\n",
       "      <td>1.0</td>\n",
       "      <td>280.0</td>\n",
       "      <td>874.0</td>\n",
       "      <td>6.0</td>\n",
       "      <td>물품 이동 장비 조작원</td>\n",
       "      <td>54.0</td>\n",
       "      <td>50대</td>\n",
       "      <td>리더</td>\n",
       "    </tr>\n",
       "    <tr>\n",
       "      <th>14402</th>\n",
       "      <td>2.0</td>\n",
       "      <td>1962.0</td>\n",
       "      <td>1.0</td>\n",
       "      <td>1.0</td>\n",
       "      <td>209.0</td>\n",
       "      <td>930.0</td>\n",
       "      <td>6.0</td>\n",
       "      <td>제조 관련 단순 종사자</td>\n",
       "      <td>58.0</td>\n",
       "      <td>50대</td>\n",
       "      <td>리더</td>\n",
       "    </tr>\n",
       "    <tr>\n",
       "      <th>14405</th>\n",
       "      <td>2.0</td>\n",
       "      <td>1947.0</td>\n",
       "      <td>2.0</td>\n",
       "      <td>2.0</td>\n",
       "      <td>27.0</td>\n",
       "      <td>941.0</td>\n",
       "      <td>6.0</td>\n",
       "      <td>청소원 및 환경미화원</td>\n",
       "      <td>73.0</td>\n",
       "      <td>60대 이상</td>\n",
       "      <td>기타</td>\n",
       "    </tr>\n",
       "    <tr>\n",
       "      <th>14410</th>\n",
       "      <td>1.0</td>\n",
       "      <td>1956.0</td>\n",
       "      <td>1.0</td>\n",
       "      <td>1.0</td>\n",
       "      <td>200.0</td>\n",
       "      <td>854.0</td>\n",
       "      <td>6.0</td>\n",
       "      <td>운송차량 및 기계 관련 조립원</td>\n",
       "      <td>64.0</td>\n",
       "      <td>60대 이상</td>\n",
       "      <td>기타</td>\n",
       "    </tr>\n",
       "    <tr>\n",
       "      <th>14416</th>\n",
       "      <td>2.0</td>\n",
       "      <td>1998.0</td>\n",
       "      <td>5.0</td>\n",
       "      <td>1.0</td>\n",
       "      <td>200.0</td>\n",
       "      <td>246.0</td>\n",
       "      <td>5.0</td>\n",
       "      <td>보건 의료 관련 종사자</td>\n",
       "      <td>22.0</td>\n",
       "      <td>20대</td>\n",
       "      <td>학생</td>\n",
       "    </tr>\n",
       "  </tbody>\n",
       "</table>\n",
       "<p>4534 rows × 11 columns</p>\n",
       "</div>"
      ],
      "text/plain": [
       "       gender   birth  marriage_type  religion  income  code_job  code_region  \\\n",
       "2         1.0  1942.0            3.0       1.0   107.0     762.0          1.0   \n",
       "3         1.0  1962.0            1.0       1.0   192.0     855.0          1.0   \n",
       "7         2.0  1934.0            1.0       1.0    27.0     941.0          1.0   \n",
       "8         2.0  1940.0            2.0       1.0    27.0     999.0          2.0   \n",
       "14        1.0  1978.0            1.0       2.0   338.0     312.0          1.0   \n",
       "...       ...     ...            ...       ...     ...       ...          ...   \n",
       "14401     1.0  1966.0            1.0       1.0   280.0     874.0          6.0   \n",
       "14402     2.0  1962.0            1.0       1.0   209.0     930.0          6.0   \n",
       "14405     2.0  1947.0            2.0       2.0    27.0     941.0          6.0   \n",
       "14410     1.0  1956.0            1.0       1.0   200.0     854.0          6.0   \n",
       "14416     2.0  1998.0            5.0       1.0   200.0     246.0          5.0   \n",
       "\n",
       "                    job   Age age_group age_group2  \n",
       "2                   전기공  78.0    60대 이상         기타  \n",
       "3           금속기계 부품 조립원  58.0       50대         리더  \n",
       "7           청소원 및 환경미화원  86.0    60대 이상         기타  \n",
       "8      기타 서비스 관련 단순 종사자  80.0    60대 이상         기타  \n",
       "14            경영 관련 사무원  42.0       40대        시니어  \n",
       "...                 ...   ...       ...        ...  \n",
       "14401      물품 이동 장비 조작원  54.0       50대         리더  \n",
       "14402      제조 관련 단순 종사자  58.0       50대         리더  \n",
       "14405       청소원 및 환경미화원  73.0    60대 이상         기타  \n",
       "14410  운송차량 및 기계 관련 조립원  64.0    60대 이상         기타  \n",
       "14416      보건 의료 관련 종사자  22.0       20대         학생  \n",
       "\n",
       "[4534 rows x 11 columns]"
      ]
     },
     "execution_count": 266,
     "metadata": {},
     "output_type": "execute_result"
    }
   ],
   "source": [
    "df2"
   ]
  },
  {
   "cell_type": "code",
   "execution_count": 267,
   "id": "9c881f42-d2d5-4297-a535-eade05703c0c",
   "metadata": {},
   "outputs": [
    {
     "data": {
      "text/plain": [
       "age_group2\n",
       "리더     1468\n",
       "기타     1093\n",
       "시니어     997\n",
       "주니어     625\n",
       "학생      351\n",
       "Name: count, dtype: int64"
      ]
     },
     "execution_count": 267,
     "metadata": {},
     "output_type": "execute_result"
    }
   ],
   "source": [
    "df2['age_group2'].value_counts()"
   ]
  },
  {
   "cell_type": "code",
   "execution_count": 268,
   "id": "77281df4-e414-469e-bde8-ee076cb20b78",
   "metadata": {},
   "outputs": [
    {
     "data": {
      "text/plain": [
       "<Axes: xlabel='age_group2', ylabel='income'>"
      ]
     },
     "execution_count": 268,
     "metadata": {},
     "output_type": "execute_result"
    },
    {
     "data": {
      "image/png": "[encoded data removed]",
      "text/plain": [
       "<Figure size 640x480 with 1 Axes>"
      ]
     },
     "metadata": {},
     "output_type": "display_data"
    }
   ],
   "source": [
    "sns.barplot(data= df2, x = 'age_group2', y = 'income')"
   ]
  },
  {
   "cell_type": "code",
   "execution_count": 269,
   "id": "8077e073-bedd-43fb-b17b-72371e31d794",
   "metadata": {},
   "outputs": [],
   "source": [
    "senier = df2[df2['age_group2'] == '시니어']['income'] \n",
    "leader = df2[df2['age_group2'] == '리더']['income'] "
   ]
  },
  {
   "cell_type": "code",
   "execution_count": 271,
   "id": "3c304ea7-76e0-4eda-8156-1d56f7704566",
   "metadata": {},
   "outputs": [
    {
     "name": "stdout",
     "output_type": "stream",
     "text": [
      "ShapiroResult(statistic=0.9455574154853821, pvalue=1.073646107098409e-18)\n",
      "ShapiroResult(statistic=0.866097092628479, pvalue=1.1758889679492784e-33)\n"
     ]
    }
   ],
   "source": [
    "print(stats.shapiro(senier))\n",
    "print(stats.shapiro(leader)) \n"
   ]
  },
  {
   "cell_type": "code",
   "execution_count": 270,
   "id": "d5bdc754-f199-41ea-b491-fc5a29d4a0cb",
   "metadata": {},
   "outputs": [
    {
     "data": {
      "text/plain": [
       "MannwhitneyuResult(statistic=789252.5, pvalue=0.0009231668451082827)"
      ]
     },
     "execution_count": 270,
     "metadata": {},
     "output_type": "execute_result"
    }
   ],
   "source": [
    "stats.mannwhitneyu(senier,leader)"
   ]
  },
  {
   "cell_type": "code",
   "execution_count": 273,
   "id": "54aeb547-f303-478d-b9ff-dad336b99174",
   "metadata": {},
   "outputs": [
    {
     "data": {
      "text/plain": [
       "Age\n",
       "19.0    162.000000\n",
       "20.0    121.333333\n",
       "21.0    136.400000\n",
       "22.0    123.666667\n",
       "23.0    179.676471\n",
       "           ...    \n",
       "88.0     27.000000\n",
       "89.0     27.000000\n",
       "90.0     27.000000\n",
       "91.0     20.000000\n",
       "92.0     27.000000\n",
       "Name: income, Length: 74, dtype: float64"
      ]
     },
     "execution_count": 273,
     "metadata": {},
     "output_type": "execute_result"
    }
   ],
   "source": [
    "df2.groupby('Age')['income'].mean()"
   ]
  },
  {
   "cell_type": "code",
   "execution_count": 285,
   "id": "2006fc05-aaa1-4568-acde-12818166a52f",
   "metadata": {},
   "outputs": [
    {
     "data": {
      "text/plain": [
       "<Axes: xlabel='Age', ylabel='income'>"
      ]
     },
     "execution_count": 285,
     "metadata": {},
     "output_type": "execute_result"
    },
    {
     "data": {
      "image/png": "[encoded data removed]",
      "text/plain": [
       "<Figure size 640x480 with 1 Axes>"
      ]
     },
     "metadata": {},
     "output_type": "display_data"
    }
   ],
   "source": [
    "sns.set_style('darkgrid')\n",
    "sns.lineplot(data = df2 , x = 'Age', y ='income', hue ='religion', palette='colorblind')"
   ]
  },
  {
   "cell_type": "code",
   "execution_count": null,
   "id": "678c8fbd-202d-42cd-a88d-92bc3d8ca24d",
   "metadata": {},
   "outputs": [],
   "source": []
  }
 ],
 "metadata": {
  "kernelspec": {
   "display_name": "Python 3 (ipykernel)",
   "language": "python",
   "name": "python3"
  },
  "language_info": {
   "codemirror_mode": {
    "name": "ipython",
    "version": 3
   },
   "file_extension": ".py",
   "mimetype": "text/x-python",
   "name": "python",
   "nbconvert_exporter": "python",
   "pygments_lexer": "ipython3",
   "version": "3.11.7"
  }
 },
 "nbformat": 4,
 "nbformat_minor": 5
}
