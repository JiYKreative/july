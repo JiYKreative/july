{
  "nbformat": 4,
  "nbformat_minor": 0,
  "metadata": {
    "colab": {
      "provenance": []
    },
    "kernelspec": {
      "name": "python3",
      "display_name": "Python 3"
    },
    "language_info": {
      "name": "python"
    }
  },
  "cells": [
    {
      "cell_type": "markdown",
      "source": [
        "# 섹션 1-1~6. N차원 배열 생성"
      ],
      "metadata": {
        "id": "B3Ui5x7zzsKz"
      }
    },
    {
      "cell_type": "code",
      "execution_count": null,
      "metadata": {
        "colab": {
          "base_uri": "https://localhost:8080/"
        },
        "id": "qQWII8CjVijb",
        "outputId": "2c9d2005-25b9-45fd-ee4d-27e3b1970b22"
      },
      "outputs": [
        {
          "output_type": "stream",
          "name": "stdout",
          "text": [
            "25\n"
          ]
        }
      ],
      "source": [
        "a = 10\n",
        "b = 15\n",
        "print(a + b)"
      ]
    },
    {
      "cell_type": "code",
      "source": [
        "import numpy as np"
      ],
      "metadata": {
        "id": "mmQU4rVGWQgL"
      },
      "execution_count": 2,
      "outputs": []
    },
    {
      "cell_type": "code",
      "source": [
        "# 1차원 배열\n",
        "arr = np.array([1,2,3])\n",
        "print(arr)\n",
        "\n",
        "#2차원 배열\n",
        "arr = np.array(\n",
        "              [[1,2,3],\n",
        "               [4,5,6]]\n",
        "               )\n",
        "print(arr)"
      ],
      "metadata": {
        "colab": {
          "base_uri": "https://localhost:8080/"
        },
        "id": "rCPsq0bxYOfC",
        "outputId": "342068d6-bea7-401d-98b3-da0c7cb171e0"
      },
      "execution_count": null,
      "outputs": [
        {
          "output_type": "stream",
          "name": "stdout",
          "text": [
            "[1 2 3]\n",
            "[[1 2 3]\n",
            " [4 5 6]]\n"
          ]
        }
      ]
    },
    {
      "cell_type": "code",
      "source": [
        "type([1,2,3])\n",
        "type(arr)"
      ],
      "metadata": {
        "colab": {
          "base_uri": "https://localhost:8080/"
        },
        "id": "J1NR9cEeY3ji",
        "outputId": "eaf8db91-8a23-4637-db4a-dbfb388c1442"
      },
      "execution_count": null,
      "outputs": [
        {
          "output_type": "execute_result",
          "data": {
            "text/plain": [
              "numpy.ndarray"
            ]
          },
          "metadata": {},
          "execution_count": 11
        }
      ]
    },
    {
      "cell_type": "code",
      "source": [
        "arr = np.array([0,1,2,3])\n",
        "print(arr,arr.dtype)\n",
        "\n",
        "arr = arr.astype(float)\n",
        "print(arr, arr.dtype)"
      ],
      "metadata": {
        "colab": {
          "base_uri": "https://localhost:8080/"
        },
        "id": "PAOfrdmxaNK5",
        "outputId": "0aa85685-a371-4c08-815c-d2cc7ae4759f"
      },
      "execution_count": null,
      "outputs": [
        {
          "output_type": "stream",
          "name": "stdout",
          "text": [
            "[0 1 2 3] int64\n",
            "[0. 1. 2. 3.] float64\n"
          ]
        }
      ]
    },
    {
      "cell_type": "code",
      "source": [
        "# 데이터 타입이 혼재하는경우\n",
        "arr = np.array([1,2,3.4,\"64\",\"문자열\"],dtype=int)\n",
        "print(arr,arr.dtype)"
      ],
      "metadata": {
        "colab": {
          "base_uri": "https://localhost:8080/",
          "height": 183
        },
        "id": "E-dj4RaMb9NK",
        "outputId": "bd4814c7-eb17-4085-96dc-5c2118834055"
      },
      "execution_count": null,
      "outputs": [
        {
          "output_type": "error",
          "ename": "ValueError",
          "evalue": "invalid literal for int() with base 10: '문자열'",
          "traceback": [
            "\u001b[0;31m---------------------------------------------------------------------------\u001b[0m",
            "\u001b[0;31mValueError\u001b[0m                                Traceback (most recent call last)",
            "\u001b[0;32m<ipython-input-30-268aa6c019d1>\u001b[0m in \u001b[0;36m<cell line: 2>\u001b[0;34m()\u001b[0m\n\u001b[1;32m      1\u001b[0m \u001b[0;31m# 데이터 타입이 혼재하는경우\u001b[0m\u001b[0;34m\u001b[0m\u001b[0;34m\u001b[0m\u001b[0m\n\u001b[0;32m----> 2\u001b[0;31m \u001b[0marr\u001b[0m \u001b[0;34m=\u001b[0m \u001b[0mnp\u001b[0m\u001b[0;34m.\u001b[0m\u001b[0marray\u001b[0m\u001b[0;34m(\u001b[0m\u001b[0;34m[\u001b[0m\u001b[0;36m1\u001b[0m\u001b[0;34m,\u001b[0m\u001b[0;36m2\u001b[0m\u001b[0;34m,\u001b[0m\u001b[0;36m3.4\u001b[0m\u001b[0;34m,\u001b[0m\u001b[0;34m\"64\"\u001b[0m\u001b[0;34m,\u001b[0m\u001b[0;34m\"문자열\"\u001b[0m\u001b[0;34m]\u001b[0m\u001b[0;34m,\u001b[0m\u001b[0mdtype\u001b[0m\u001b[0;34m=\u001b[0m\u001b[0mint\u001b[0m\u001b[0;34m)\u001b[0m\u001b[0;34m\u001b[0m\u001b[0;34m\u001b[0m\u001b[0m\n\u001b[0m\u001b[1;32m      3\u001b[0m \u001b[0mprint\u001b[0m\u001b[0;34m(\u001b[0m\u001b[0marr\u001b[0m\u001b[0;34m,\u001b[0m\u001b[0marr\u001b[0m\u001b[0;34m.\u001b[0m\u001b[0mdtype\u001b[0m\u001b[0;34m)\u001b[0m\u001b[0;34m\u001b[0m\u001b[0;34m\u001b[0m\u001b[0m\n",
            "\u001b[0;31mValueError\u001b[0m: invalid literal for int() with base 10: '문자열'"
          ]
        }
      ]
    },
    {
      "cell_type": "markdown",
      "source": [
        "1-3 정해진 형식의 N차원 배열 생성하기"
      ],
      "metadata": {
        "id": "gyGE7XingGjl"
      }
    },
    {
      "cell_type": "code",
      "source": [
        "# 1-3 정해진 형식의 N차원 배열 생성하기\n",
        "# np.zeros()\n",
        "arr= np.zeros([2,2])\n",
        "print(arr)\n",
        "\n",
        "# np.ones()\n",
        "arr= np.ones([3,5])\n",
        "print(arr)\n",
        "\n",
        "#np.full()\n",
        "arr = np.full((2,3),5)\n",
        "print(arr)\n",
        "\n",
        "#np.eye()\n",
        "arr = np.eye(3)\n",
        "print(arr)"
      ],
      "metadata": {
        "colab": {
          "base_uri": "https://localhost:8080/"
        },
        "id": "9uBQ9kJcb9-8",
        "outputId": "d7818d19-06dd-435f-a7d0-da01aba058dc"
      },
      "execution_count": null,
      "outputs": [
        {
          "output_type": "stream",
          "name": "stdout",
          "text": [
            "[[0. 0.]\n",
            " [0. 0.]]\n",
            "[[1. 1. 1. 1. 1.]\n",
            " [1. 1. 1. 1. 1.]\n",
            " [1. 1. 1. 1. 1.]]\n",
            "[[5 5 5]\n",
            " [5 5 5]]\n",
            "[[1. 0. 0.]\n",
            " [0. 1. 0.]\n",
            " [0. 0. 1.]]\n"
          ]
        }
      ]
    },
    {
      "cell_type": "code",
      "source": [
        "arr = np.array([[1,2,3],\n",
        "                [4,5,6]])\n",
        "print(arr)\n",
        "# np.zerosLike()\n",
        "arr_z = np.zeros_like(arr)\n",
        "print(arr_z)\n",
        "\n",
        "#np.ones_like()\n",
        "arr_o = np.ones_like(arr)\n",
        "print(arr_o)\n",
        "\n",
        "# np.full_like()\n",
        "arr_f = np.full_like(arr,9)\n",
        "print(arr_f)"
      ],
      "metadata": {
        "colab": {
          "base_uri": "https://localhost:8080/"
        },
        "id": "_PuYp-osejak",
        "outputId": "7cb7964a-5248-4260-9eb8-72f8fd9f1818"
      },
      "execution_count": null,
      "outputs": [
        {
          "output_type": "stream",
          "name": "stdout",
          "text": [
            "[[1 2 3]\n",
            " [4 5 6]]\n",
            "[[0 0 0]\n",
            " [0 0 0]]\n",
            "[[1 1 1]\n",
            " [1 1 1]]\n",
            "[[9 9 9]\n",
            " [9 9 9]]\n"
          ]
        }
      ]
    },
    {
      "cell_type": "markdown",
      "source": [
        "1-4 특정범위의 값을 가지는 N차원 배열 생성하기"
      ],
      "metadata": {
        "id": "e3TQ6uuHf-5v"
      }
    },
    {
      "cell_type": "code",
      "source": [
        "list= list(range(0,9,2))\n",
        "print(list)"
      ],
      "metadata": {
        "colab": {
          "base_uri": "https://localhost:8080/"
        },
        "id": "GCsCpFn_gE-d",
        "outputId": "fb7b8691-e236-4d83-cdad-a687d6547d6a"
      },
      "execution_count": null,
      "outputs": [
        {
          "output_type": "stream",
          "name": "stdout",
          "text": [
            "[0, 2, 4, 6, 8]\n"
          ]
        }
      ]
    },
    {
      "cell_type": "code",
      "source": [
        "# 범위를 가지는 N차원 배열 생성\n",
        "arr = np.arange(9)\n",
        "print(arr)\n",
        "arr = np.arange(stop = 9 , step = 2, start = 0) # (0,9,2)\n",
        "print(arr)\n"
      ],
      "metadata": {
        "colab": {
          "base_uri": "https://localhost:8080/"
        },
        "id": "nfKQyM5zgfL1",
        "outputId": "2f7bae02-81f8-49e2-b1c4-d958a0165bc6"
      },
      "execution_count": null,
      "outputs": [
        {
          "output_type": "stream",
          "name": "stdout",
          "text": [
            "[0 1 2 3 4 5 6 7 8]\n",
            "[0 2 4 6 8]\n"
          ]
        }
      ]
    },
    {
      "cell_type": "code",
      "source": [
        "# np.linspace()      stop 값 까지 출력하는게 차이\n",
        "arr= np.linspace(0, 100, 250)\n",
        "print(arr)"
      ],
      "metadata": {
        "colab": {
          "base_uri": "https://localhost:8080/"
        },
        "id": "WLoDEdIYhc8U",
        "outputId": "c0d8ffd8-d12c-4aab-f704-64ab7862bb4f"
      },
      "execution_count": null,
      "outputs": [
        {
          "output_type": "stream",
          "name": "stdout",
          "text": [
            "[  0.           0.40160643   0.80321285   1.20481928   1.6064257\n",
            "   2.00803213   2.40963855   2.81124498   3.21285141   3.61445783\n",
            "   4.01606426   4.41767068   4.81927711   5.22088353   5.62248996\n",
            "   6.02409639   6.42570281   6.82730924   7.22891566   7.63052209\n",
            "   8.03212851   8.43373494   8.83534137   9.23694779   9.63855422\n",
            "  10.04016064  10.44176707  10.84337349  11.24497992  11.64658635\n",
            "  12.04819277  12.4497992   12.85140562  13.25301205  13.65461847\n",
            "  14.0562249   14.45783133  14.85943775  15.26104418  15.6626506\n",
            "  16.06425703  16.46586345  16.86746988  17.26907631  17.67068273\n",
            "  18.07228916  18.47389558  18.87550201  19.27710843  19.67871486\n",
            "  20.08032129  20.48192771  20.88353414  21.28514056  21.68674699\n",
            "  22.08835341  22.48995984  22.89156627  23.29317269  23.69477912\n",
            "  24.09638554  24.49799197  24.89959839  25.30120482  25.70281124\n",
            "  26.10441767  26.5060241   26.90763052  27.30923695  27.71084337\n",
            "  28.1124498   28.51405622  28.91566265  29.31726908  29.7188755\n",
            "  30.12048193  30.52208835  30.92369478  31.3253012   31.72690763\n",
            "  32.12851406  32.53012048  32.93172691  33.33333333  33.73493976\n",
            "  34.13654618  34.53815261  34.93975904  35.34136546  35.74297189\n",
            "  36.14457831  36.54618474  36.94779116  37.34939759  37.75100402\n",
            "  38.15261044  38.55421687  38.95582329  39.35742972  39.75903614\n",
            "  40.16064257  40.562249    40.96385542  41.36546185  41.76706827\n",
            "  42.1686747   42.57028112  42.97188755  43.37349398  43.7751004\n",
            "  44.17670683  44.57831325  44.97991968  45.3815261   45.78313253\n",
            "  46.18473896  46.58634538  46.98795181  47.38955823  47.79116466\n",
            "  48.19277108  48.59437751  48.99598394  49.39759036  49.79919679\n",
            "  50.20080321  50.60240964  51.00401606  51.40562249  51.80722892\n",
            "  52.20883534  52.61044177  53.01204819  53.41365462  53.81526104\n",
            "  54.21686747  54.6184739   55.02008032  55.42168675  55.82329317\n",
            "  56.2248996   56.62650602  57.02811245  57.42971888  57.8313253\n",
            "  58.23293173  58.63453815  59.03614458  59.437751    59.83935743\n",
            "  60.24096386  60.64257028  61.04417671  61.44578313  61.84738956\n",
            "  62.24899598  62.65060241  63.05220884  63.45381526  63.85542169\n",
            "  64.25702811  64.65863454  65.06024096  65.46184739  65.86345382\n",
            "  66.26506024  66.66666667  67.06827309  67.46987952  67.87148594\n",
            "  68.27309237  68.6746988   69.07630522  69.47791165  69.87951807\n",
            "  70.2811245   70.68273092  71.08433735  71.48594378  71.8875502\n",
            "  72.28915663  72.69076305  73.09236948  73.4939759   73.89558233\n",
            "  74.29718876  74.69879518  75.10040161  75.50200803  75.90361446\n",
            "  76.30522088  76.70682731  77.10843373  77.51004016  77.91164659\n",
            "  78.31325301  78.71485944  79.11646586  79.51807229  79.91967871\n",
            "  80.32128514  80.72289157  81.12449799  81.52610442  81.92771084\n",
            "  82.32931727  82.73092369  83.13253012  83.53413655  83.93574297\n",
            "  84.3373494   84.73895582  85.14056225  85.54216867  85.9437751\n",
            "  86.34538153  86.74698795  87.14859438  87.5502008   87.95180723\n",
            "  88.35341365  88.75502008  89.15662651  89.55823293  89.95983936\n",
            "  90.36144578  90.76305221  91.16465863  91.56626506  91.96787149\n",
            "  92.36947791  92.77108434  93.17269076  93.57429719  93.97590361\n",
            "  94.37751004  94.77911647  95.18072289  95.58232932  95.98393574\n",
            "  96.38554217  96.78714859  97.18875502  97.59036145  97.99196787\n",
            "  98.3935743   98.79518072  99.19678715  99.59839357 100.        ]\n"
          ]
        }
      ]
    },
    {
      "cell_type": "code",
      "source": [
        "# np.logspace()\n",
        "arr = np.linspace(1,10,10)  # 그린 스페이스\n",
        "print(arr,end=\"\\n\\n\")\n",
        "\n",
        "arr= np.logspace(1,10,10,base=2)\n",
        "print(arr)\n",
        "\n",
        "arr= np.logspace(1,10,10)\n",
        "print(arr)"
      ],
      "metadata": {
        "colab": {
          "base_uri": "https://localhost:8080/"
        },
        "id": "PnqEPB8ghtsE",
        "outputId": "280b520b-ff57-48ad-ead7-6a3d22389e8b"
      },
      "execution_count": null,
      "outputs": [
        {
          "output_type": "stream",
          "name": "stdout",
          "text": [
            "[ 1.  2.  3.  4.  5.  6.  7.  8.  9. 10.]\n",
            "\n",
            "[   2.    4.    8.   16.   32.   64.  128.  256.  512. 1024.]\n",
            "[1.e+01 1.e+02 1.e+03 1.e+04 1.e+05 1.e+06 1.e+07 1.e+08 1.e+09 1.e+10]\n"
          ]
        }
      ]
    },
    {
      "cell_type": "markdown",
      "source": [
        "1-5 난수로 N차원 배열 생성하기"
      ],
      "metadata": {
        "id": "YRnlb1iJk4LS"
      }
    },
    {
      "cell_type": "code",
      "source": [
        "import matplotlib.pyplot as plt\n"
      ],
      "metadata": {
        "id": "w_kfqlxUk7Pj"
      },
      "execution_count": null,
      "outputs": []
    },
    {
      "cell_type": "code",
      "source": [
        "# np.random.normal(loc , scale, size)\n",
        "#  loc: 정규 분포의 평균(mean)을 나타냅니다.\n",
        "# scale: 정규 분포의 표준 편차(standard deviation)를 나타냅니다.\n",
        "# size: 생성할 난수의 개수를 나타냅니다. 이 값은 선택적으로 지정,기본값은 None,배열로가\n",
        "\n",
        "\n",
        "arr = np.random.normal(0, 1, (2,3))\n",
        "print(arr)"
      ],
      "metadata": {
        "colab": {
          "base_uri": "https://localhost:8080/"
        },
        "id": "sS-QbR8BlWoZ",
        "outputId": "d09c9fc5-1076-4590-a9d1-37b4baf81c17"
      },
      "execution_count": null,
      "outputs": [
        {
          "output_type": "stream",
          "name": "stdout",
          "text": [
            "[[-1.11226105 -0.74739188  0.73886588]\n",
            " [-0.7170361   0.87353524 -0.41702595]]\n"
          ]
        }
      ]
    },
    {
      "cell_type": "code",
      "source": [
        "arr = np.random.normal(0,1,100000)\n",
        "plt.hist(arr,bins=100)\n",
        "plt.show()"
      ],
      "metadata": {
        "colab": {
          "base_uri": "https://localhost:8080/",
          "height": 430
        },
        "id": "zOmBYbKvmwzx",
        "outputId": "8b1714e1-d0a2-439a-ce00-63e8e22837ff"
      },
      "execution_count": null,
      "outputs": [
        {
          "output_type": "display_data",
          "data": {
            "text/plain": [
              "<Figure size 640x480 with 1 Axes>"
            ],
            "image/png": "[encoded data removed]"
          },
          "metadata": {}
        }
      ]
    },
    {
      "cell_type": "code",
      "source": [
        "# np.random.rand() 0~1사이의 값을 균등한 비율로 표본을 추출\n",
        "arr = np.random.rand(1000)\n",
        "plt.hist(arr,bins=100)\n",
        "plt.show() # s난수가 균등한 비율로 분포함을 그래프로 알 수 있음."
      ],
      "metadata": {
        "colab": {
          "base_uri": "https://localhost:8080/",
          "height": 430
        },
        "id": "ox2dNHf5nPFh",
        "outputId": "f5e10377-707d-44e4-def5-ce7855ac3d12"
      },
      "execution_count": null,
      "outputs": [
        {
          "output_type": "display_data",
          "data": {
            "text/plain": [
              "<Figure size 640x480 with 1 Axes>"
            ],
            "image/png": "[encoded data removed]"
          },
          "metadata": {}
        }
      ]
    },
    {
      "cell_type": "code",
      "source": [
        "# np.random.randn() -1부터 1 사이의 값을 정규분포 /가오시안 분포\n",
        "aee = np.random.randn(1000)\n",
        "plt.hist(arr, bins=100)\n",
        "plt.show()"
      ],
      "metadata": {
        "colab": {
          "base_uri": "https://localhost:8080/",
          "height": 430
        },
        "id": "F2EUcxyxnyYR",
        "outputId": "138be707-a548-4b4c-cd58-9ad4fd9c1114"
      },
      "execution_count": null,
      "outputs": [
        {
          "output_type": "display_data",
          "data": {
            "text/plain": [
              "<Figure size 640x480 with 1 Axes>"
            ],
            "image/png": "[encoded data removed]"
          },
          "metadata": {}
        }
      ]
    },
    {
      "cell_type": "code",
      "source": [
        "# np.random.randint() 랜덤한 정수만 출력\n",
        "arr= np.random.randint(low = 1, high = 5, size =(3,4)) # 인자들을 하이퍼 파라미터 라고도 함/반드시 1개 이상을 적어줘야\n",
        "print(arr)\n",
        " #plt.hist(arr, bins = 100)\n",
        "# plt.show"
      ],
      "metadata": {
        "colab": {
          "base_uri": "https://localhost:8080/"
        },
        "id": "8JCa5I2yoboo",
        "outputId": "509270ca-a839-4ab4-a90e-404f716219c4"
      },
      "execution_count": null,
      "outputs": [
        {
          "output_type": "stream",
          "name": "stdout",
          "text": [
            "[[4 2 1 3]\n",
            " [2 4 1 4]\n",
            " [2 4 1 1]]\n"
          ]
        }
      ]
    },
    {
      "cell_type": "code",
      "source": [
        "# np.random.randint() 랜덤한 정수만 출력\n",
        "arr= np.random.randint(5) # 하나를 적으면 그 값을 하위값으로 자동으로 인식하여 0부터 해당 값 사이의 정수를 1개만 반환함.\n",
        "print(arr)\n",
        " #plt.hist(arr, bins = 100)\n",
        "# plt.show"
      ],
      "metadata": {
        "colab": {
          "base_uri": "https://localhost:8080/"
        },
        "id": "aLGB-n4Mvp_N",
        "outputId": "9d4c9f15-218f-4fa6-9c47-03022aa84846"
      },
      "execution_count": null,
      "outputs": [
        {
          "output_type": "stream",
          "name": "stdout",
          "text": [
            "2\n"
          ]
        }
      ]
    },
    {
      "cell_type": "code",
      "source": [
        "arr= np.random.randint(100, 200, 1000) # 100r 200미만의 사이에 있는 난수인 정수!\n",
        "plt.hist(arr,bins = 100)\n",
        "plt.show()"
      ],
      "metadata": {
        "colab": {
          "base_uri": "https://localhost:8080/",
          "height": 430
        },
        "id": "p77MSU2jv9AL",
        "outputId": "56374fb6-d466-4d34-92b8-05556b243f5d"
      },
      "execution_count": null,
      "outputs": [
        {
          "output_type": "display_data",
          "data": {
            "text/plain": [
              "<Figure size 640x480 with 1 Axes>"
            ],
            "image/png": "[encoded data removed]"
          },
          "metadata": {}
        }
      ]
    },
    {
      "cell_type": "markdown",
      "source": [
        "rand(): 균등한 분포 출력\n",
        ". randn(): 정규분포를 출력\n",
        ". randint(): 정수를 출력  "
      ],
      "metadata": {
        "id": "ajyvrAX_wfhc"
      }
    },
    {
      "cell_type": "markdown",
      "source": [
        "1-6 시드(seed)값을 통한 난수 생성 제어\n",
        "**굵은 텍스트**\n",
        "\n",
        "---\n",
        "난수 = 랜덤하게 만들어진 수\n",
        "특정시작점으로부터 난수처럼 보이는 수열을 만드는 방식으로 동작을 하게 됨."
      ],
      "metadata": {
        "id": "haz2sEefw7Zz"
      }
    },
    {
      "cell_type": "code",
      "source": [
        "arr= np.random.rand(10)\n",
        "print(\"난수발생1\\n\",arr)\n",
        "\n",
        "arr= np.random.rand(10)\n",
        "print(\"난수발생2\\n\",arr)"
      ],
      "metadata": {
        "colab": {
          "base_uri": "https://localhost:8080/"
        },
        "id": "CifJ1G0lxBNT",
        "outputId": "775ab24e-ee62-4bad-ef8f-53a145b2d59f"
      },
      "execution_count": null,
      "outputs": [
        {
          "output_type": "stream",
          "name": "stdout",
          "text": [
            "난수발생1\n",
            " [0.75302776 0.38147259 0.06361196 0.0364287  0.27307205 0.8186152\n",
            " 0.16476165 0.75539974 0.55418367 0.63975802]\n",
            "난수발생2\n",
            " [0.30473008 0.20325576 0.96504552 0.32987892 0.16162904 0.93659433\n",
            " 0.40356436 0.81440674 0.00885135 0.87654841]\n"
          ]
        }
      ]
    },
    {
      "cell_type": "code",
      "source": [
        "np.random.seed(10) # 시작점: 시작점이 같으면 항상 동일한 난수들이 출력됨.\n",
        "arr= np.random.rand(10)\n",
        "print(\"난수 발생1\\n\",arr )\n",
        "\n",
        "\n",
        "np.random.seed(10) # !주의 : 생성하는 코드마다 seed 값을 지정해줘야 함.그래야 같은 난수들이 나옴.\n",
        "arr= np.random.rand(10)\n",
        "print(\"난수 발생2\\n\",arr )"
      ],
      "metadata": {
        "colab": {
          "base_uri": "https://localhost:8080/"
        },
        "id": "pLAjUAhryK3D",
        "outputId": "9d68d7a6-a7a8-4c98-8eb0-b27de9c60b7b"
      },
      "execution_count": null,
      "outputs": [
        {
          "output_type": "stream",
          "name": "stdout",
          "text": [
            "난수 발생1\n",
            " [0.77132064 0.02075195 0.63364823 0.74880388 0.49850701 0.22479665\n",
            " 0.19806286 0.76053071 0.16911084 0.08833981]\n",
            "난수 발생2\n",
            " [0.77132064 0.02075195 0.63364823 0.74880388 0.49850701 0.22479665\n",
            " 0.19806286 0.76053071 0.16911084 0.08833981]\n"
          ]
        }
      ]
    },
    {
      "cell_type": "markdown",
      "source": [
        "# 섹션 2 N차원 배열의 인덱싱"
      ],
      "metadata": {
        "id": "qGRCOiE3y5WD"
      }
    },
    {
      "cell_type": "markdown",
      "source": [
        "## **2-1. 배열의 index접근하기**\n"
      ],
      "metadata": {
        "id": "QrzjwRpL0SIC"
      }
    },
    {
      "cell_type": "code",
      "source": [
        "# 1차원 배열\n",
        "arr = np.array([ 0, 1, 2, 3, 4, 5, 6, 7, 8, 9 ])\n",
        "arr = np.arange(10)\n",
        "print(arr)\n",
        "\n",
        "print(arr[3]) # 인덱스는 0부터 시작한다.\n",
        "print(arr[1])\n",
        "print(arr[-1])\n",
        "print(arr[-2])\n",
        "print(arr[-3])\n",
        "print(arr[-10])\n"
      ],
      "metadata": {
        "colab": {
          "base_uri": "https://localhost:8080/"
        },
        "id": "qTQ_xJVP0YvR",
        "outputId": "f86cee26-d405-4aab-9961-9fb3ebc97dcf"
      },
      "execution_count": null,
      "outputs": [
        {
          "output_type": "stream",
          "name": "stdout",
          "text": [
            "[0 1 2 3 4 5 6 7 8 9]\n",
            "3\n",
            "1\n",
            "9\n",
            "8\n",
            "7\n",
            "0\n"
          ]
        }
      ]
    },
    {
      "cell_type": "code",
      "source": [
        "# 2차원 배열\n",
        "arr = np.array([[1, 2, 3, 4],\n",
        "               [ 5, 6, 7, 8],\n",
        "               [9,10,11,12 ]])\n",
        "print(arr,arr.shape,arr.ndim)\n",
        "print(arr[0,3])\n",
        "\n"
      ],
      "metadata": {
        "colab": {
          "base_uri": "https://localhost:8080/"
        },
        "id": "dID3hCI61QDA",
        "outputId": "2a398ead-4254-481a-d9d9-a7d5c835c065"
      },
      "execution_count": null,
      "outputs": [
        {
          "output_type": "stream",
          "name": "stdout",
          "text": [
            "[[ 1  2  3  4]\n",
            " [ 5  6  7  8]\n",
            " [ 9 10 11 12]] (3, 4) 2\n",
            "4\n"
          ]
        }
      ]
    },
    {
      "cell_type": "code",
      "source": [
        "# 1차원 배열의 범위값\n",
        "arr = np.array([ 0, 1, 2, 3, 4, 5, 6, 7, 8, 9 ])\n",
        "print(arr[3:8])\n",
        "print(arr[3:])\n",
        "print(arr[:7])\n",
        "print(arr[:-1])"
      ],
      "metadata": {
        "colab": {
          "base_uri": "https://localhost:8080/"
        },
        "id": "3oBeKpOu3vMQ",
        "outputId": "0f0a94be-5d5a-4471-d4db-25f01ad8fa47"
      },
      "execution_count": null,
      "outputs": [
        {
          "output_type": "stream",
          "name": "stdout",
          "text": [
            "[3 4 5 6 7]\n",
            "[3 4 5 6 7 8 9]\n",
            "[0 1 2 3 4 5 6]\n",
            "[0 1 2 3 4 5 6 7 8]\n"
          ]
        }
      ]
    },
    {
      "cell_type": "code",
      "source": [
        "# 2차원 배열의 범위값\n",
        "arr = np.array([[1, 2, 3, 4],     #0행\n",
        "               [ 5, 6, 7, 8],     #1행\n",
        "               [9,10,11,12 ]])    #2행\n",
        "print(arr[0,:])  # 0번재 행의 모든 원소\n",
        "print(arr[:,1])"
      ],
      "metadata": {
        "colab": {
          "base_uri": "https://localhost:8080/"
        },
        "id": "DrWtnmqr45II",
        "outputId": "617a0e20-3fd4-4208-d618-e30c9f4307dc"
      },
      "execution_count": null,
      "outputs": [
        {
          "output_type": "stream",
          "name": "stdout",
          "text": [
            "[1 2 3 4]\n",
            "[ 2  6 10]\n"
          ]
        }
      ]
    },
    {
      "cell_type": "code",
      "source": [
        "print(arr[:3, :]) # 0 부터 3미만의 행, 모든 행에 대해서 모든열에 해당하는 각 원소들 출력\n",
        "          #행 열\n",
        "\n",
        "print(arr[:2, 2:]) # 2 미만의 행 (0과 1행) 에 대해서 2번째 열부터 나타냄"
      ],
      "metadata": {
        "colab": {
          "base_uri": "https://localhost:8080/"
        },
        "id": "KAvLogKe52X5",
        "outputId": "0164ee47-4bf5-4303-d5a6-12e19817ef82"
      },
      "execution_count": null,
      "outputs": [
        {
          "output_type": "stream",
          "name": "stdout",
          "text": [
            "[[ 1  2  3  4]\n",
            " [ 5  6  7  8]\n",
            " [ 9 10 11 12]]\n",
            "[[3 4]\n",
            " [7 8]]\n"
          ]
        }
      ]
    },
    {
      "cell_type": "markdown",
      "source": [
        " **2-2 Fancy 인덱싱**\n",
        "\n",
        "\n",
        "\n",
        "---\n",
        "특정 인덱스를 여러개를 선택을 해서 탐색하는 방법\n",
        "\n",
        "\n"
      ],
      "metadata": {
        "id": "fzARLlHt7JUd"
      }
    },
    {
      "cell_type": "code",
      "source": [
        "# 1차원 배열\n",
        "arr = np.array([5, 10, 15, 20, 25, 30])\n",
        "print(arr[[0, 2, 4]]) # 0번째 그리고 2번재,4번째 원소를 가져오겠다는 뜻."
      ],
      "metadata": {
        "colab": {
          "base_uri": "https://localhost:8080/"
        },
        "id": "ijxe3Pv97Evo",
        "outputId": "b9e9fee3-0d04-4082-8b45-7c689da21b8f"
      },
      "execution_count": null,
      "outputs": [
        {
          "output_type": "stream",
          "name": "stdout",
          "text": [
            "[ 5 15 25]\n"
          ]
        }
      ]
    },
    {
      "cell_type": "code",
      "source": [
        "# 2차원 배열\n",
        "arr = np.array([[5, 10, 15, 20],  # 0행\n",
        "               [25, 30, 35, 40],   # 1행\n",
        "               [45, 50, 55, 60]]  # 2행\n",
        "               )\n",
        "print(arr[ [ 0, 2 ] , 2: ])        #0행과 2행에 해당하는 값들에 대해서 2열부터 끝까지\n",
        "        # [  [ 행   ], 열 ]\n",
        "print(arr[1: , [ 2, 3 ] ])"
      ],
      "metadata": {
        "colab": {
          "base_uri": "https://localhost:8080/"
        },
        "id": "Ueawu3Xm7RYt",
        "outputId": "8e378113-1e80-4e0a-face-ee73b3eb1cea"
      },
      "execution_count": null,
      "outputs": [
        {
          "output_type": "stream",
          "name": "stdout",
          "text": [
            "[[15 20]\n",
            " [55 60]]\n",
            "[[35 40]\n",
            " [55 60]]\n"
          ]
        }
      ]
    },
    {
      "cell_type": "markdown",
      "source": [
        "## **2-3. 배열의 Boolean 인덱싱**\n",
        "\n",
        "\n",
        "---\n",
        "True false 값을 이용해서 배열의 값을 탐색\n"
      ],
      "metadata": {
        "id": "Twnz-fOs-wV0"
      }
    },
    {
      "cell_type": "code",
      "source": [
        "arr = np.array([1, 2, 3, 4])\n",
        "print(arr[[True,False,True,True]]) # True에 해당하는 값은 가져온다.\n",
        "\n",
        "\n",
        "arr = np.array([[1, 2, 3, 4],\n",
        "                [5, 6, 7, 8]]) # 2차원 어레이\n",
        "print(arr[[True,False],True]) # 1행은가져오지 않고 0행만 가져온다.열은 전부 가져온다\n"
      ],
      "metadata": {
        "colab": {
          "base_uri": "https://localhost:8080/"
        },
        "id": "UDkiMD3e_Knk",
        "outputId": "385e4a15-1eec-4548-fd74-f08c674558d5"
      },
      "execution_count": null,
      "outputs": [
        {
          "output_type": "stream",
          "name": "stdout",
          "text": [
            "[1 3 4]\n",
            "[[1 2 3 4]]\n"
          ]
        }
      ]
    },
    {
      "cell_type": "code",
      "source": [
        "arr = np.array([[1, 2, 3, 4],\n",
        "                [5, 6, 7, 8]])\n",
        "\n",
        "print(arr[ arr >3 ] ) # 3보다 큰 숫자를 전부 가져온다.\n",
        "print(arr[ arr <= 2 ] ) # 2보다 같거나 작은 수를 전부 가져온다."
      ],
      "metadata": {
        "colab": {
          "base_uri": "https://localhost:8080/"
        },
        "id": "NqLVmFx9_TpQ",
        "outputId": "6ef1c44c-e05f-4178-b1ea-93d6a1b4d0cc"
      },
      "execution_count": null,
      "outputs": [
        {
          "output_type": "stream",
          "name": "stdout",
          "text": [
            "[4 5 6 7 8]\n",
            "[1 2]\n"
          ]
        }
      ]
    },
    {
      "cell_type": "markdown",
      "source": [
        "# 섹션 3. N차원 배열 연산법\n",
        "\n",
        "---\n",
        "두 배열의 쉐입이 같아야 한다.\n",
        "쉐이비 다른배열의 연산 = 브로드 캐스팅\n"
      ],
      "metadata": {
        "id": "eGyOV0uhBcG6"
      }
    },
    {
      "cell_type": "markdown",
      "source": [
        "**3-1. 배열의 연산1**\n",
        "\n",
        "\n",
        "---\n",
        "사칙연산/ 제곱 / 제곱근 / 몫 / 나머지\n"
      ],
      "metadata": {
        "id": "wnRAfnE1BrFN"
      }
    },
    {
      "cell_type": "code",
      "source": [
        "arr1 = np.array([[1, 2, 3],\n",
        "                 [4, 5, 6],\n",
        "                 [7, 8, 9]])\n",
        "arr2 = np.array([[2, 2, 2],\n",
        "                 [2, 2, 2],\n",
        "                 [2, 2, 2]])\n",
        "print(arr1)\n",
        "print(arr2)"
      ],
      "metadata": {
        "colab": {
          "base_uri": "https://localhost:8080/"
        },
        "id": "O-uZxHSUBllR",
        "outputId": "687e332f-73cb-4241-e396-584851449c62"
      },
      "execution_count": null,
      "outputs": [
        {
          "output_type": "stream",
          "name": "stdout",
          "text": [
            "[[1 2 3]\n",
            " [4 5 6]\n",
            " [7 8 9]]\n",
            "[[2 2 2]\n",
            " [2 2 2]\n",
            " [2 2 2]]\n"
          ]
        }
      ]
    },
    {
      "cell_type": "code",
      "source": [
        "# 덧셈\n",
        "print(arr1 + arr2)\n",
        "print(np.add(arr1,arr2))"
      ],
      "metadata": {
        "colab": {
          "base_uri": "https://localhost:8080/"
        },
        "id": "wzF_iZM-D4gZ",
        "outputId": "4a25549c-8de6-442f-e905-10cd79957388"
      },
      "execution_count": null,
      "outputs": [
        {
          "output_type": "stream",
          "name": "stdout",
          "text": [
            "[[ 3  4  5]\n",
            " [ 6  7  8]\n",
            " [ 9 10 11]]\n",
            "[[ 3  4  5]\n",
            " [ 6  7  8]\n",
            " [ 9 10 11]]\n"
          ]
        }
      ]
    },
    {
      "cell_type": "code",
      "source": [
        " # 뺄셈 np.subtract( , )\n",
        "print(arr1-arr2)\n",
        "print(np.subtract(arr1,arr2))\n"
      ],
      "metadata": {
        "colab": {
          "base_uri": "https://localhost:8080/"
        },
        "id": "hdGI15tuEJQa",
        "outputId": "ac1119c1-eb49-41a2-e703-2f97999f5ccc"
      },
      "execution_count": null,
      "outputs": [
        {
          "output_type": "stream",
          "name": "stdout",
          "text": [
            "[[-1  0  1]\n",
            " [ 2  3  4]\n",
            " [ 5  6  7]]\n",
            "[[-1  0  1]\n",
            " [ 2  3  4]\n",
            " [ 5  6  7]]\n"
          ]
        }
      ]
    },
    {
      "cell_type": "code",
      "source": [
        "# 곱셈 np.multiply( , )\n",
        "print(arr1*arr2)\n",
        "print(np.multiply(arr1,arr2))\n"
      ],
      "metadata": {
        "colab": {
          "base_uri": "https://localhost:8080/"
        },
        "id": "K_WPi_vKEhW4",
        "outputId": "ff9f7108-e14b-47c8-d229-edfd736e1377"
      },
      "execution_count": null,
      "outputs": [
        {
          "output_type": "stream",
          "name": "stdout",
          "text": [
            "[[ 2  4  6]\n",
            " [ 8 10 12]\n",
            " [14 16 18]]\n",
            "[[ 2  4  6]\n",
            " [ 8 10 12]\n",
            " [14 16 18]]\n"
          ]
        }
      ]
    },
    {
      "cell_type": "code",
      "source": [
        "# 나눗셈  np.divide( , )\n",
        "print(arr1/arr2)\n",
        "print(np.divide(arr1,arr2))"
      ],
      "metadata": {
        "colab": {
          "base_uri": "https://localhost:8080/"
        },
        "id": "XKP1e71lE0Lq",
        "outputId": "7a441da7-c750-4259-9afa-8d4a85563c78"
      },
      "execution_count": null,
      "outputs": [
        {
          "output_type": "stream",
          "name": "stdout",
          "text": [
            "[[0.5 1.  1.5]\n",
            " [2.  2.5 3. ]\n",
            " [3.5 4.  4.5]]\n",
            "[[0.5 1.  1.5]\n",
            " [2.  2.5 3. ]\n",
            " [3.5 4.  4.5]]\n"
          ]
        }
      ]
    },
    {
      "cell_type": "code",
      "source": [
        "# 제곱\n",
        "arr1 = np.array([[1, 2, 3],\n",
        "                 [4, 5, 6],\n",
        "                 [7, 8, 9]])\n",
        "arr2 = np.array([[2, 2, 2],\n",
        "                 [2, 2, 2],\n",
        "                 [2, 2, 2]])\n",
        "\n",
        "print(arr1 ** 5)\n",
        "print(np.square(arr1))\n",
        "\n",
        "# 제곱근\n",
        "print(np.sqrt(arr1))"
      ],
      "metadata": {
        "colab": {
          "base_uri": "https://localhost:8080/"
        },
        "id": "DROsLKxdFMdJ",
        "outputId": "bdd9c091-f895-4b8b-c1ca-af535ea79faf"
      },
      "execution_count": null,
      "outputs": [
        {
          "output_type": "stream",
          "name": "stdout",
          "text": [
            "[[    1    32   243]\n",
            " [ 1024  3125  7776]\n",
            " [16807 32768 59049]]\n",
            "[[ 1  4  9]\n",
            " [16 25 36]\n",
            " [49 64 81]]\n",
            "[[1.         1.41421356 1.73205081]\n",
            " [2.         2.23606798 2.44948974]\n",
            " [2.64575131 2.82842712 3.        ]]\n"
          ]
        }
      ]
    },
    {
      "cell_type": "code",
      "source": [
        "# 몫\n",
        "print(arr1//2) # arr1을 2 로 나우었을 때 몫\n",
        "\n",
        "# 나머지\n",
        "print(arr1 % 2)"
      ],
      "metadata": {
        "colab": {
          "base_uri": "https://localhost:8080/"
        },
        "id": "ZuYpm_TNICid",
        "outputId": "078b4b3d-f77b-47ff-cd6b-77fe96ac1c17"
      },
      "execution_count": null,
      "outputs": [
        {
          "output_type": "stream",
          "name": "stdout",
          "text": [
            "[[0 1 1]\n",
            " [2 2 3]\n",
            " [3 4 4]]\n",
            "[[1 0 1]\n",
            " [0 1 0]\n",
            " [1 0 1]]\n"
          ]
        }
      ]
    },
    {
      "cell_type": "markdown",
      "source": [
        "3-2 배열의 **연산2**\n",
        "\n",
        "---\n",
        "내적(dot product)/절댓값/올림/반올림/버림\n"
      ],
      "metadata": {
        "id": "F163JcEZIfmz"
      }
    },
    {
      "cell_type": "code",
      "source": [
        "# 1차원 행렬\n",
        "arr1 = np.array([2, 3, 4])  # 위 아래 그대로 곱하여 다 더한다.\n",
        "arr2 = np.array([1, 2, 3])\n",
        "\n",
        "print(np.dot(arr1,arr2))"
      ],
      "metadata": {
        "colab": {
          "base_uri": "https://localhost:8080/"
        },
        "id": "m7UEyZxjIm19",
        "outputId": "6d186a01-611f-483e-d027-9b700ae09364"
      },
      "execution_count": null,
      "outputs": [
        {
          "output_type": "stream",
          "name": "stdout",
          "text": [
            "20\n"
          ]
        }
      ]
    },
    {
      "cell_type": "code",
      "source": [
        "# 2차원 핼렬\n",
        "'''\n",
        "[[a , b]     [[e, f]          [[ae + bg, af + bh]\n",
        " [c, d ]]     [g, h]]     =>   [ce + dg, cf + dh]]\n",
        " '''\n",
        "\n",
        "arr1 = np.array( [ [1, 2],\n",
        "                   [4, 5] ] )\n",
        "\n",
        "\n",
        "arr2 = np.array( [ [1, 2],\n",
        "                    [0, 3] ] )\n",
        "\n",
        "print(np.dot(arr1,arr2))"
      ],
      "metadata": {
        "colab": {
          "base_uri": "https://localhost:8080/"
        },
        "id": "T3pVwWrrJjsl",
        "outputId": "e6de4203-51af-4879-ee68-ed4fcf5a4474"
      },
      "execution_count": null,
      "outputs": [
        {
          "output_type": "stream",
          "name": "stdout",
          "text": [
            "[[ 1  8]\n",
            " [ 4 23]]\n"
          ]
        }
      ]
    },
    {
      "cell_type": "code",
      "source": [
        "#절댓값 연산\n",
        "arr = np.array([[1, 2],\n",
        "                [-4, 5]])\n",
        "print(np.abs(arr))"
      ],
      "metadata": {
        "colab": {
          "base_uri": "https://localhost:8080/"
        },
        "id": "3ADdVOJCodR4",
        "outputId": "1bb46b61-d6ad-43d7-88cc-4187bd19d9de"
      },
      "execution_count": 5,
      "outputs": [
        {
          "output_type": "stream",
          "name": "stdout",
          "text": [
            "[[1 2]\n",
            " [4 5]]\n"
          ]
        }
      ]
    },
    {
      "cell_type": "markdown",
      "source": [
        "3-3  배열의 연산 3\n",
        "\n",
        "---\n",
        "min, max/ sum/mean/std/cumsum/median"
      ],
      "metadata": {
        "id": "1j3jctT4lzmS"
      }
    },
    {
      "cell_type": "code",
      "source": [],
      "metadata": {
        "id": "tbqqVhEGl23g"
      },
      "execution_count": null,
      "outputs": []
    }
  ]
}